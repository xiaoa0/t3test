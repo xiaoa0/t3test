{
 "cells": [
  {
   "cell_type": "markdown",
   "metadata": {},
   "source": [
    "# \"Unit 10: Recursion\" \n",
    "\n",
    "- categories: [CBUnits, jupyter]"
   ]
  },
  {
   "attachments": {},
   "cell_type": "markdown",
   "metadata": {},
   "source": [
    "### Basics\n",
    "- Recursive method calls itself\n",
    "- Should have at least one case to stop recursion (uses local variables)\n",
    "- Similar to iteration, but sometimes more convenient"
   ]
  },
  {
   "cell_type": "code",
   "execution_count": 1,
   "metadata": {
    "vscode": {
     "languageId": "java"
    }
   },
   "outputs": [],
   "source": [
    "public static void test(int n) {\n",
    "    if (n > 0) {\n",
    "        test(n-1);\n",
    "    }\n",
    "}"
   ]
  },
  {
   "attachments": {},
   "cell_type": "markdown",
   "metadata": {},
   "source": [
    "### Binary search\n",
    "- Binary search continually splits array in two to reduce values to search for target \n",
    "- Must be sorted\n",
    "- Ex: if searching for 23 in array of even numbers, high and low boundaries will converge on 22 and 24\n",
    "- Program will know that 23 is not in array and stop recursion"
   ]
  },
  {
   "attachments": {},
   "cell_type": "markdown",
   "metadata": {},
   "source": [
    "### Merge sort\n",
    "- Used to sort ArrayLists\n",
    "- Divides array in half, calls itself for two halves to sort and then merges the halves back into one array\n",
    "- Can copy array, go through each element to compare and return each element sorted in original"
   ]
  }
 ],
 "metadata": {
  "kernelspec": {
   "display_name": "Java",
   "language": "java",
   "name": "java"
  },
  "language_info": {
   "codemirror_mode": "java",
   "file_extension": ".jshell",
   "mimetype": "text/x-java-source",
   "name": "Java",
   "pygments_lexer": "java",
   "version": "17.0.5+8"
  },
  "orig_nbformat": 4
 },
 "nbformat": 4,
 "nbformat_minor": 2
}
