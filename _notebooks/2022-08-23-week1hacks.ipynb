{
 "cells": [
  {
   "cell_type": "markdown",
   "metadata": {},
   "source": [
    "# Week 1 Hacks\n",
    "> Primitives\n",
    "\n",
    "- comments: true\n",
    "- badges: true\n",
    "- categories: [APprep, jupyter]"
   ]
  },
  {
   "cell_type": "markdown",
   "metadata": {},
   "source": [
    "- Terminal for testing and runtime\n",
    "- Run button > JavaC > Bytecode > Java runs\n",
    "- Lots of data types\n",
    "- Primitives (booleans, characters) are fixed (defined by the language)\n",
    "- Non-primitives (wrapper classes) store functions (methods) and objects\n",
    "- Examples: wrappers are uppercase, primitives are lowercase\n",
    "-----\n",
    "### Code.org learnings\n",
    "- Format is myObject.function();\n",
    "- Classes must be capitalized\n",
    "- Create new instance with ClassName objectName = new ClassName();"
   ]
  },
  {
   "cell_type": "code",
   "execution_count": 4,
   "metadata": {},
   "outputs": [
    {
     "name": "stdout",
     "output_type": "stream",
     "text": [
      "anInt: 100\n",
      "aDouble: 89.9\n",
      "aBoolean: true\n",
      "aString: Hello, World!\n",
      "aStringFormal: Greetings, World!\n"
     ]
    }
   ],
   "source": [
    "public class DefinePrimitives {\n",
    "  public static void main(String[] args) {\n",
    "    int anInt = 100;\n",
    "    double aDouble = 89.9;\n",
    "    boolean aBoolean = true;\n",
    "\n",
    "    // not primitives but essential\n",
    "    String aString = \"Hello, World!\";   // wrapper class shortcut assignment\n",
    "    String aStringFormal = new String(\"Greetings, World!\");\n",
    "\n",
    "    System.out.println(\"anInt: \" + anInt);\n",
    "    System.out.println(\"aDouble: \" + aDouble);\n",
    "    System.out.println(\"aBoolean: \" + aBoolean);\n",
    "    System.out.println(\"aString: \" + aString);\n",
    "    System.out.println(\"aStringFormal: \" + aStringFormal);\n",
    "  }\n",
    "}\n",
    "DefinePrimitives.main(null)"
   ]
  },
  {
   "cell_type": "code",
   "execution_count": 1,
   "metadata": {},
   "outputs": [
    {
     "name": "stdout",
     "output_type": "stream",
     "text": [
      "Enter an integer: Not an integer (form like 159), java.util.InputMismatchException\n",
      "Enter a double: 22.2\n",
      "Enter a boolean: false\n",
      "Enter a String: Hello World\n"
     ]
    }
   ],
   "source": [
    "// java style to import library\n",
    "import java.util.Scanner;\n",
    "\n",
    "// class must alway have 1st letter as uppercase, CamelCase is Java Class convention\n",
    "public class ScanPrimitives {\n",
    "    public static void main(String[] args) {    \n",
    "        Scanner input;\n",
    "\n",
    "        // primitive int\n",
    "        input = new Scanner(System.in);\n",
    "        System.out.print(\"Enter an integer: \");\n",
    "        try {\n",
    "            int sampleInputInt = input.nextInt();\n",
    "            System.out.println(sampleInputInt);\n",
    "        } catch (Exception e) {  // if not an integer\n",
    "            System.out.println(\"Not an integer (form like 159), \" + e);\n",
    "        }\n",
    "        input.close();\n",
    "\n",
    "        // primitive double\n",
    "        input = new Scanner(System.in);\n",
    "        System.out.print(\"Enter a double: \");\n",
    "        try {\n",
    "            double sampleInputDouble = input.nextDouble();\n",
    "            System.out.println(sampleInputDouble);\n",
    "        } catch (Exception e) {  // if not a number\n",
    "            System.out.println(\"Not an double (form like 9.99), \" + e);\n",
    "        }\n",
    "        input.close();\n",
    "\n",
    "        // primitive boolean\n",
    "        input =  new Scanner(System.in);\n",
    "        System.out.print(\"Enter a boolean: \");\n",
    "        try {\n",
    "            boolean sampleInputBoolean = input.nextBoolean();\n",
    "            System.out.println(sampleInputBoolean);\n",
    "        } catch (Exception e) {  // if not true or false\n",
    "            System.out.println(\"Not an boolean (true or false), \" + e);\n",
    "        }\n",
    "        input.close();\n",
    "\n",
    "        // wrapper class String\n",
    "        input =  new Scanner(System.in);\n",
    "        System.out.print(\"Enter a String: \");\n",
    "        try {\n",
    "            String sampleInputString = input.nextLine();\n",
    "            System.out.println(sampleInputString);\n",
    "        } catch (Exception e) { // this may never happen\n",
    "            System.out.println(\"Not an String, \" + e);\n",
    "        }\n",
    "        input.close();\n",
    "    }\n",
    "}\n",
    "ScanPrimitives.main(null);"
   ]
  },
  {
   "cell_type": "markdown",
   "metadata": {},
   "source": [
    "## Calculator function\n",
    "\n",
    "This is a simple function that uses the Scanner class to take user input. It uses double and char primitives to store them and the calculation result. "
   ]
  },
  {
   "cell_type": "code",
   "execution_count": 5,
   "metadata": {},
   "outputs": [
    {
     "name": "stdout",
     "output_type": "stream",
     "text": [
      "Choose an operator: +, -, *, or /\n",
      "Enter first number\n",
      "Enter second number\n",
      "25.0 / 3.0 = 8.333333333333334\n"
     ]
    }
   ],
   "source": [
    "import java.util.Scanner;\n",
    "// uses scanner to take input\n",
    "public class Calculator{\n",
    "  public static void main(String[] args) {\n",
    "    //setting variables\n",
    "    char operator;\n",
    "    Double number1, number2, result;\n",
    "\n",
    "    // create an object of Scanner class\n",
    "    Scanner input = new Scanner(System.in);\n",
    "\n",
    "    // taking user input\n",
    "    System.out.println(\"Choose an operator: +, -, *, or /\");\n",
    "    operator = input.next().charAt(0);\n",
    "\n",
    "    System.out.println(\"Enter first number\");\n",
    "    number1 = input.nextDouble();\n",
    "\n",
    "    System.out.println(\"Enter second number\");\n",
    "    number2 = input.nextDouble();\n",
    "\n",
    "    switch (operator) {\n",
    "      // addition\n",
    "      case '+':\n",
    "        result = number1 + number2;\n",
    "        System.out.println(number1 + \" + \" + number2 + \" = \" + result);\n",
    "        break;\n",
    "\n",
    "      // subtraction\n",
    "      case '-':\n",
    "        result = number1 - number2;\n",
    "        System.out.println(number1 + \" - \" + number2 + \" = \" + result);\n",
    "        break;\n",
    "\n",
    "      // multiplication\n",
    "      case '*':\n",
    "        result = number1 * number2;\n",
    "        System.out.println(number1 + \" * \" + number2 + \" = \" + result);\n",
    "        break;\n",
    "\n",
    "      // division\n",
    "      case '/':\n",
    "        result = number1 / number2;\n",
    "        System.out.println(number1 + \" / \" + number2 + \" = \" + result);\n",
    "        break;\n",
    "      // error handling\n",
    "      default:\n",
    "        System.out.println(\"Invalid operator!\");\n",
    "        break;\n",
    "    }\n",
    "\n",
    "    input.close();\n",
    "  }\n",
    "}\n",
    "// calling function\n",
    "Calculator.main(null);"
   ]
  }
 ],
 "metadata": {
  "kernelspec": {
   "display_name": "Java",
   "language": "java",
   "name": "java"
  },
  "language_info": {
   "codemirror_mode": "java",
   "file_extension": ".jshell",
   "mimetype": "text/x-java-source",
   "name": "java",
   "pygments_lexer": "java",
   "version": "17.0.3+7"
  },
  "orig_nbformat": 4,
  "vscode": {
   "interpreter": {
    "hash": "cca942544a13735e0b500f1ac16a217b44980d9f203f77f6d4313b106e747e9e"
   }
  }
 },
 "nbformat": 4,
 "nbformat_minor": 2
}
