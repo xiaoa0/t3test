{
 "cells": [
  {
   "attachments": {},
   "cell_type": "markdown",
   "metadata": {},
   "source": [
    "# Java Data Types\n",
    "\n",
    "- toc: true\n",
    "- badges: true\n",
    "- comments: true\n",
    "- categories: [fastpages, jupyter]"
   ]
  },
  {
   "attachments": {},
   "cell_type": "markdown",
   "metadata": {},
   "source": [
    "### Sample Binary Addition"
   ]
  },
  {
   "cell_type": "code",
   "execution_count": 2,
   "metadata": {},
   "outputs": [
    {
     "name": "stdout",
     "output_type": "stream",
     "text": [
      "Enter first binary number: 1111\n",
      "Enter second binary number: 10101\n",
      "Output: 100100\n"
     ]
    }
   ],
   "source": [
    "import java.util.Scanner;\n",
    "public class JavaBinaryAdder {\n",
    "   public static void main(String[] args)\n",
    "   {\n",
    "\t//Two variables to hold two input binary numbers\t \n",
    "\tlong b1, b2;\n",
    "\tint i = 0, carry = 0;\n",
    "\n",
    "\t//This is to hold the output binary number\n",
    "\tint[] sum = new int[10];\n",
    "\n",
    "\t//To read the input binary numbers entered by user\n",
    "\tScanner scanner = new Scanner(System.in);\n",
    "\n",
    "\t//getting first binary number from user\n",
    "\tSystem.out.print(\"Enter first binary number: \");\n",
    "\tb1 = scanner.nextLong();\n",
    "    System.out.print(b1);\n",
    "    System.out.println();\n",
    "\t//getting second binary number from user\n",
    "\tSystem.out.print(\"Enter second binary number: \");\n",
    "\tb2 = scanner.nextLong();\n",
    "    System.out.print(b2);\n",
    "    System.out.println();\n",
    "\n",
    "\t//closing scanner after use to avoid memory leak\n",
    "\tscanner.close();\n",
    "\twhile (b1 != 0 || b2 != 0) \n",
    "\t{\n",
    "\t\tsum[i++] = (int)((b1 % 10 + b2 % 10 + carry) % 2);\n",
    "\t\tcarry = (int)((b1 % 10 + b2 % 10 + carry) / 2);\n",
    "\t\tb1 = b1 / 10;\n",
    "\t\tb2 = b2 / 10;\n",
    "\t}\n",
    "\tif (carry != 0) {\n",
    "\t\tsum[i++] = carry;\n",
    "\t}\n",
    "\t--i;\n",
    "\tSystem.out.print(\"Output: \");\n",
    "\twhile (i >= 0) {\n",
    "\t\tSystem.out.print(sum[i--]);\n",
    "\t}\n",
    "\tSystem.out.print(\"\\n\");  \n",
    "   }\n",
    "}\n",
    "JavaBinaryAdder.main(null);"
   ]
  },
  {
   "attachments": {},
   "cell_type": "markdown",
   "metadata": {},
   "source": [
    "### Code Example: Before and After Multiplying by 5"
   ]
  },
  {
   "cell_type": "code",
   "execution_count": 23,
   "metadata": {},
   "outputs": [
    {
     "name": "stdout",
     "output_type": "stream",
     "text": [
      "Enter number: Main method before changeInt(n): n = 6\n",
      "In changeInt method\n",
      "\tBefore n *= 5: n = 6\n",
      "\tAfter n *= 5: n = 30\n",
      "Main method after changeInt(n): n = 6\n"
     ]
    }
   ],
   "source": [
    "import java.util.Scanner;\n",
    "public class MultiplyBy5 {\n",
    "    \n",
    "    public static void changeInt(int n) {\n",
    "        System.out.println(\"In changeInt method\");\n",
    "        System.out.println(\"\\tBefore n *= 5: n = \" + n); // prints 5\n",
    "        n = n *= 5;\n",
    "        System.out.println(\"\\tAfter n *= 5: n = \" + n); // prints 10\n",
    "    }\n",
    "\n",
    "    public static void main(String[] args) {\n",
    "        int n = 0;\n",
    "        Scanner scanner = new Scanner(System.in);\n",
    "        System.out.print(\"Enter number: \");\n",
    "\t    n = scanner.nextInt();\n",
    "        System.out.println(\"Main method before changeInt(n): n = \" + n); // prints 5\n",
    "        changeInt(n);\n",
    "        System.out.println(\"Main method after changeInt(n): n = \" + n); // still prints 5\n",
    "    }\n",
    "}\n",
    "MultiplyBy5.main(null);"
   ]
  },
  {
   "attachments": {},
   "cell_type": "markdown",
   "metadata": {},
   "source": [
    "### Converting to Wrapper Class"
   ]
  },
  {
   "cell_type": "code",
   "execution_count": null,
   "metadata": {},
   "outputs": [],
   "source": [
    "int primitiveInt = n;\n",
    "Integer[] wrapperIntArray = new Integer[] { primitiveInt };\n",
    "Integer wrapperInt = wrapperIntArray[0];"
   ]
  },
  {
   "attachments": {},
   "cell_type": "markdown",
   "metadata": {},
   "source": [
    "## Exploring Teacher Code:\n",
    "### What are Methods and Control Structures?\n",
    "- A method, also known as a function or subroutine, is a block of code that performs a specific task. Methods can be called multiple times and can accept input parameters and return output values. They are used to break down complex tasks into smaller, more manageable units of code.\n",
    "- Control structures are used to control the flow of execution in a program. They determine the order in which statements are executed based on certain conditions. There are three main types of control structures:\n",
    "  1. Conditional statements: These are used to execute a certain block of code only if a particular condition is met. Examples include the \"if\" statement, the \"else\" statement, and the \"switch\" statement.\n",
    "  2. Looping statements: These are used to repeat a block of code until a particular condition is met. Examples include the \"for\" loop, the \"while\" loop, and the \"do-while\" loop.\n",
    "  3. Jump statements: These are used to transfer control to another part of the program. Examples include the \"break\" statement, the \"continue\" statement, and the \"return\" statement.\n",
    "\n",
    "### Diverse Arrays\n",
    "- This code definitely contains multiple Methods and Control Structures. The Methods are seen in functions such as arraySum(), rowSums(), and isDiverse(), as they are called in different places within the class and each do their own procedure. The Control Structures can be seen in the multiple conventional for loops in each of the methods.\n",
    "- The primary data types in the diverse matrix code are int and boolean as ints are used to stare the numbers within the 2D arrays and a boolean is used to provide the final answer as to whether the sums of the array rows are diverse or not.\n",
    "\n",
    "### `Math.random()`\n",
    "-  `Math.random()` is a built-in method in Java that returns a pseudo-random double value between 0.0 and 1.0 (inclusive).\n",
    "- This method uses a mathematical algorithm to generate random numbers, which means that the numbers are not truly random but are determined by the algorithm.- `int randomNum = (int)(Math.random() * 10);` returns a value between 0.0 and 1.0, which is then multiplied by 10 and cast to an integer. The resulting value is a random integer between 0 and 9.\n",
    "- If you want to get an integer value between 7 and 9, you can cast the result of the expression to an int, like this: `int randomInt = (int) (Math.random() * 2 + 7);` Here, `Math.random() * 2` generates a random value between 0 and 2, and then adding 7 to it will shift the range to be between 7 and 9."
   ]
  },
  {
   "attachments": {},
   "cell_type": "markdown",
   "metadata": {},
   "source": [
    "### DoNothingByValue\n",
    "- Seems to be multiple ways in order to change input such as arrays of numbers or strings into default values/empty arrays of 0.\n",
    "- This is done by creating a default array arr and setting all the values to 0 through the use of conventional for loops.\n",
    "### IntByReference\n",
    "- Wraps int inputs into Integers, because they need to be objects in order to work with the swapper method.\n",
    "- In order to swap values if the latter one is lesser, the value is stored in a tmp variable in order to switch around.\n",
    "### Menu"
   ]
  },
  {
   "cell_type": "code",
   "execution_count": 15,
   "metadata": {},
   "outputs": [
    {
     "name": "stdout",
     "output_type": "stream",
     "text": [
      "Hacks Menu:\n",
      "0 ==> Exit\n",
      "1 ==> Multiply By 5\n",
      "2 ==> Do Nothing\n",
      "3 ==> Swap if Hi-Low\n",
      "4 ==> Matrix Reverse\n",
      "5 ==> Diverse Array\n",
      "6 ==> Random Squirrels\n",
      "\n",
      "Enter number: Main method before changeInt(n): n = 346\n",
      "In changeInt method\n",
      "\tBefore n *= 5: n = 346\n",
      "\tAfter n *= 5: n = 1730\n",
      "Main method after changeInt(n): n = 346\n",
      "\n",
      "Hacks Menu:\n",
      "0 ==> Exit\n",
      "1 ==> Multiply By 5\n",
      "2 ==> Do Nothing\n",
      "3 ==> Swap if Hi-Low\n",
      "4 ==> Matrix Reverse\n",
      "5 ==> Diverse Array\n",
      "6 ==> Random Squirrels\n",
      "\n",
      "Goodbye!\n"
     ]
    }
   ],
   "source": [
    "import java.util.HashMap;\n",
    "import java.util.Map;\n",
    "import java.util.Scanner;\n",
    "public class MultiplyBy5 {\n",
    "    \n",
    "    public static void changeInt(int n) {\n",
    "        System.out.println(\"In changeInt method\");\n",
    "        System.out.println(\"\\tBefore n *= 5: n = \" + n); // prints 5\n",
    "        n = n *= 5;\n",
    "        System.out.println(\"\\tAfter n *= 5: n = \" + n); // prints 10\n",
    "    }\n",
    "\n",
    "    public static void main(String[] args) {\n",
    "        int n = 0;\n",
    "        Scanner scanner = new Scanner(System.in);\n",
    "        System.out.print(\"Enter number: \");\n",
    "\t    n = scanner.nextInt();\n",
    "        System.out.println(\"Main method before changeInt(n): n = \" + n); // prints 5\n",
    "        changeInt(n);\n",
    "        System.out.println(\"Main method after changeInt(n): n = \" + n); // still prints 5\n",
    "        System.out.println();\n",
    "    }\n",
    "}\n",
    "/**\n",
    " * Menu: custom implementation\n",
    " * @author     John Mortensen\n",
    " *\n",
    " * Uses String to contain Title for an Option\n",
    " * Uses Runnable to store Class-Method to be run when Title is selected\n",
    " */\n",
    "\n",
    "// The Menu Class has a HashMap of Menu Rows\n",
    "\n",
    "\n",
    "// The MenuRow Class has title and action for individual line item in menu\n",
    "class MenuRow {\n",
    "    String title;       // menu item title\n",
    "    Runnable action;    // menu item action, using Runnable\n",
    "\n",
    "    /**\n",
    "     *  Constructor for MenuRow,\n",
    "     *\n",
    "     * @param  title,  is the description of the menu item\n",
    "     * @param  action, is the run-able action for the menu item\n",
    "     */\n",
    "    public MenuRow(String title, Runnable action) {\n",
    "        this.title = title;\n",
    "        this.action = action;\n",
    "    }\n",
    "\n",
    "    /**\n",
    "     *  Getters\n",
    "     */\n",
    "    public String getTitle() {\n",
    "        return this.title;\n",
    "    }\n",
    "    public Runnable getAction() {\n",
    "        return this.action;\n",
    "    }\n",
    "\n",
    "    /**\n",
    "     *  Runs the action using Runnable (.run)\n",
    "     */\n",
    "    public void run() {\n",
    "        action.run();\n",
    "    }\n",
    "}\n",
    "\n",
    "// The Main Class illustrates initializing and using Menu with Runnable action\n",
    "class Driver {\n",
    "    /**\n",
    "     *  Menu Control Example\n",
    "     */\n",
    "    public static void main(String[] args) {\n",
    "        // Row initialize\n",
    "        MenuRow[] rows = new MenuRow[]{\n",
    "            // lambda style, () -> to point to Class.Method\n",
    "            new MenuRow(\"Exit\", () -> main(null)),\n",
    "            new MenuRow(\"Multiply By 5\", () -> MultiplyBy5.main(null)),\n",
    "            new MenuRow(\"Do Nothing\", () -> MultiplyBy5.main(null)),\n",
    "            new MenuRow(\"Swap if Hi-Low\", () -> MultiplyBy5.main(null)),\n",
    "            new MenuRow(\"Matrix Reverse\", () -> MultiplyBy5.main(null)),\n",
    "            new MenuRow(\"Diverse Array\", () -> MultiplyBy5.main(null)),\n",
    "            new MenuRow(\"Random Squirrels\", () -> MultiplyBy5.main(null))\n",
    "        };\n",
    "\n",
    "        // Menu construction\n",
    "        Menu menu = new Menu(rows);\n",
    "\n",
    "        // Run menu forever, exit condition contained in loop\n",
    "        while (true) {\n",
    "            System.out.println(\"Hacks Menu:\");\n",
    "            // print rows\n",
    "            menu.print();\n",
    "            System.out.println();\n",
    "\n",
    "            // Scan for input\n",
    "            try {\n",
    "                Scanner scan = new Scanner(System.in);\n",
    "                int selection = scan.nextInt();\n",
    "\n",
    "                // menu action\n",
    "                try {\n",
    "                    MenuRow row = menu.get(selection);\n",
    "                    // stop menu\n",
    "                    if (row.getTitle().equals(\"Exit\")) {\n",
    "                        System.out.println(\"Goodbye!\");\n",
    "                        if (scan != null) \n",
    "                            scan.close();  // scanner resource requires release\n",
    "                        return;\n",
    "                    }\n",
    "                    // run option\n",
    "                    row.run();\n",
    "                } catch (Exception e) {\n",
    "                    System.out.printf(\"Invalid selection %d\\n\", selection);\n",
    "                }\n",
    "\n",
    "            } catch (Exception e) {\n",
    "                System.out.println(\"Not a number\");\n",
    "            }\n",
    "        }\n",
    "    }\n",
    "}Driver.main(null);"
   ]
  },
  {
   "attachments": {},
   "cell_type": "markdown",
   "metadata": {},
   "source": [
    "- MenuRow is a method because it's a piece of code grouped together in a way that performs a specific task - initializing each row of the menu - and it's called over and over in the driver class. Though the MenuRow class itself is not a control structure, it is part of a switch case used in the Driver class which is.\n",
    "- The Driver mainly has a switch case control structure, in which different operations are performed depending on which int is typed into the scanner. For example there is a section of code where there's an if statement stating that if 0 is typed into the scanner, the menu will exited out of."
   ]
  },
  {
   "attachments": {},
   "cell_type": "markdown",
   "metadata": {},
   "source": [
    "## Explore AP Classroom\n",
    "\n",
    "### The Exam\n",
    "- MC is 40 questions in 90 minutes (2 mins per question)\n",
    "- 4 FRQs in 90 minutes"
   ]
  },
  {
   "attachments": {},
   "cell_type": "markdown",
   "metadata": {},
   "source": [
    "## 2022 FRQ 1"
   ]
  },
  {
   "cell_type": "code",
   "execution_count": 1,
   "metadata": {},
   "outputs": [],
   "source": [
    "public class Digits {\n",
    "    /** The list of digits from the number used to construct this object.\n",
    "    * The digits appear in the list in the same order in which they appear in the original number.\n",
    "    */\n",
    "    private ArrayList<Integer> digitList;\n",
    "\n",
    "    public Digits(int num) { // if num is 0 or positive\n",
    "        digitList = new ArrayList<Integer>();\n",
    "        if (num == 0) { // if num is 0\n",
    "            digitList.add(new Integer(0)); // copying each digit into arraylist\n",
    "        }\n",
    "        while (num > 0) { // if num is 1 or greater\n",
    "            digitList.add(0, new Integer(num % 10)); // dividing by 10 so that only the digit is stored\n",
    "            num /= 10;\n",
    "        }\n",
    "    }\n",
    "\n",
    "    public boolean isStrictlyIncreasing() { \n",
    "        for (int i = 0; i < digitList.size()-1; i++) { // looping through each item in digitlist\n",
    "            if (digitList.get(i).intValue() >= digitList.get(i+1).intValue()) { // if digit at index i is greater than at index i+1 (not sorted)\n",
    "                return false;\n",
    "            }\n",
    "        }\n",
    "        return true; // otherwise return true\n",
    "    }\n",
    "}"
   ]
  },
  {
   "attachments": {},
   "cell_type": "markdown",
   "metadata": {},
   "source": [
    "### AP CSA FRQ 2017 Methods and Control Structures\n",
    "- https://apcentral.collegeboard.org/media/pdf/ap-computer-science-a-frq-2017.pdf\n",
    "\n",
    "### FRQ 4 Solution\n",
    "- part a:"
   ]
  },
  {
   "cell_type": "code",
   "execution_count": null,
   "metadata": {},
   "outputs": [],
   "source": [
    "public static Position findPosition(int num, int[][] intArr) { // input is entered and saved as num\n",
    "    for (int row=0; row < intArr.length; row++) {  // iterates through each  row\n",
    "        for (int col=0; col < intArr[0].length; col++) { // iterates through each column in the row\n",
    "            if (intArr[row][col] == num) { // if value = num\n",
    "            return new Position(row, col); // return the value\n",
    "            }\n",
    "        }\n",
    "    }\n",
    "return null;\n",
    "}"
   ]
  },
  {
   "attachments": {},
   "cell_type": "markdown",
   "metadata": {},
   "source": [
    "- part b:"
   ]
  },
  {
   "cell_type": "code",
   "execution_count": null,
   "metadata": {},
   "outputs": [],
   "source": [
    "public static Position[][] getSuccessorArray(int[][] intArr) {\n",
    "    Position[][] newArr = new Position[intArr.length][intArr[0].length];\n",
    "        for (int row=0; row < intArr.length; row++) {\n",
    "            for (int col=0; col < intArr[0].length; col++) { // iterates through rows and columns\n",
    "            newArr[row][col] = findPosition(intArr[row][col]+1, intArr); // returns the coordinates of where that specific number is in the first array\n",
    "            }\n",
    "        }\n",
    "return newArr; // displays as a whole new array of coordinates\n",
    "}"
   ]
  },
  {
   "attachments": {},
   "cell_type": "markdown",
   "metadata": {},
   "source": [
    "### Discussion of Methods & Control Structures:\n",
    "- To iterate and perform operations throughout the 2D there are multiple For Loops that iterate through each value of the array to perform operations on it.\n",
    "- `findPosition()` and `getSuccessorArray()` are both methods that complete a specific task. "
   ]
  }
 ],
 "metadata": {
  "kernelspec": {
   "display_name": "Java",
   "language": "java",
   "name": "java"
  },
  "language_info": {
   "codemirror_mode": "java",
   "file_extension": ".jshell",
   "mimetype": "text/x-java-source",
   "name": "java",
   "pygments_lexer": "java",
   "version": "17.0.5+8"
  },
  "orig_nbformat": 4
 },
 "nbformat": 4,
 "nbformat_minor": 2
}
