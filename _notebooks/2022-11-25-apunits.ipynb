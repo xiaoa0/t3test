{
 "cells": [
  {
   "cell_type": "markdown",
   "metadata": {},
   "source": [
    "# Units 1-5 Review\n",
    "\n",
    "- toc: true\n",
    "- categories: [CBUnits, jupyter]"
   ]
  },
  {
   "attachments": {},
   "cell_type": "markdown",
   "metadata": {},
   "source": [
    "## Grades\n",
    "\n",
    "| Unit | Grade | Homework |\n",
    "|---|---|---|\n",
    "| 1: Primitives | [0.93/1](https://lychee80.github.io/Test/2022/12/01/grades.html) | [2006 FRQ](https://xiaoa0.github.io/fastpages2/cbunits/2022/10/12/primitives.html) |\n",
    "| 2: Objects | 1/1 (taught lesson) | [Lesson notebook](https://xiaoa0.github.io/fastpages2/cbunits/2022/10/13/objectslesson.html) |\n",
    "| 3: Booleans | 0/1  | Did not complete |\n",
    "| 4: Iteration | [0.8/1](https://docs.google.com/spreadsheets/d/12igVnctnJg7i9oVmRxrkYzZ_Tp3wgeq_AmAuZ4qyLaY/edit#gid=0) | Quiz done separately, [notes](https://xiaoa0.github.io/fastpages2/cbunits/2022/10/18/iteration.html) |\n",
    "| 5: Classes | [0.9/1](https://icygs.github.io/Krish-CSA/2022/11/29/Unit-Five-Lesson-Grading.html) | [2021 FRQ](https://xiaoa0.github.io/fastpages2/cbunits/jupyter/2022/11/20/classes.html) |\n",
    "| Total | 3.63/5 |  |"
   ]
  },
  {
   "cell_type": "markdown",
   "metadata": {},
   "source": [
    "## Unit 1: Primitives\n",
    "[Link to notebook](https://xiaoa0.github.io/fastpages2/cbunits/2022/10/12/primitives.html)\n",
    "\n",
    "Summary: Primitives are a data type in Java with limited properties (lowercase, varying size, can't call methods). Primitive data types include bool, int, char, double, etc. They can be compared with == instead of .equals()."
   ]
  },
  {
   "cell_type": "markdown",
   "metadata": {},
   "source": [
    "### Casting\n",
    "Casting is when you assign the value of a primitive to another primitive type. It can either widen (smaller to larger type) or narrow (larger to smaller type). "
   ]
  },
  {
   "cell_type": "code",
   "execution_count": 4,
   "metadata": {},
   "outputs": [
    {
     "name": "stdout",
     "output_type": "stream",
     "text": [
      "2\n",
      "2.0\n"
     ]
    }
   ],
   "source": [
    "// In this example you can see the difference in data sizes\n",
    "int x = 2;\n",
    "int y = 4;\n",
    "\n",
    "// without casting \n",
    "System.out.println(y/x);\n",
    "\n",
    "// With casting\n",
    "System.out.println((double)y/(double)x);"
   ]
  },
  {
   "cell_type": "code",
   "execution_count": 5,
   "metadata": {},
   "outputs": [
    {
     "name": "stdout",
     "output_type": "stream",
     "text": [
      "3.7\n",
      "3\n"
     ]
    }
   ],
   "source": [
    "// this example shows truncating with narrowing\n",
    "double a = 3.7;\n",
    "\n",
    "// without casting\n",
    "System.out.println(a);\n",
    "\n",
    "// with casting\n",
    "System.out.println((int)a);"
   ]
  },
  {
   "cell_type": "markdown",
   "metadata": {},
   "source": [
    "### Wrapper\n",
    "Wrapper classes allow us to use primitives as objects (capitalized data type, think int to Int). One example of this is ArrayList."
   ]
  },
  {
   "cell_type": "code",
   "execution_count": 7,
   "metadata": {},
   "outputs": [
    {
     "name": "stdout",
     "output_type": "stream",
     "text": [
      "[1]\n"
     ]
    }
   ],
   "source": [
    "// assign primitive variable\n",
    "int x = 1;\n",
    "\n",
    "// instantiate arraylist of integers\n",
    "ArrayList<Integer> intList = new ArrayList<Integer>();\n",
    "\n",
    "// create Integer from int\n",
    "Integer a_wrapper = new Integer(x);\n",
    "intList.add(x);\n",
    "\n",
    "System.out.println(intList);"
   ]
  },
  {
   "cell_type": "markdown",
   "metadata": {},
   "source": [
    "## Unit 2: Objects\n",
    "[Link to notebook](https://xiaoa0.github.io/fastpages2/cbunits/2022/10/13/objectslesson.html)\n",
    "\n",
    "Summary: Objects are instances of a class. They inherit properties from the class, which greatly simplifies attribute management. Methods in objects can be void or return something."
   ]
  },
  {
   "cell_type": "markdown",
   "metadata": {},
   "source": [
    "### Concatenation\n",
    "Concatenation allows you to combine strings. You can also combine non-strings with toString()"
   ]
  },
  {
   "cell_type": "code",
   "execution_count": 9,
   "metadata": {},
   "outputs": [
    {
     "name": "stdout",
     "output_type": "stream",
     "text": [
      "Hippopotamus\n",
      "Hippo12\n"
     ]
    }
   ],
   "source": [
    "// assigning variables\n",
    "String x = \"Hippo\";\n",
    "String y = \"pota\";\n",
    "String z = \"mus\";\n",
    "int a = 12;\n",
    "\n",
    "// concatenating all strings\n",
    "System.out.println(x + y + z);\n",
    "\n",
    "// concatenate x \"Hippo\" and int a\n",
    "System.out.println(x + a);"
   ]
  },
  {
   "cell_type": "markdown",
   "metadata": {},
   "source": [
    "### Math class\n",
    "Math class allows you to use more math functions such as finding the max of two numbers or square roots. In this case,  we will focus on Math.random()"
   ]
  },
  {
   "cell_type": "code",
   "execution_count": 12,
   "metadata": {},
   "outputs": [
    {
     "name": "stdout",
     "output_type": "stream",
     "text": [
      "48\n"
     ]
    }
   ],
   "source": [
    "import java.lang.Math; // importing\n",
    "\n",
    "// by itself\n",
    "Math.random(); // generates random number between 0 and 1, inclusive\n",
    "\n",
    "// can multiply by integer to expand range (0-100)\n",
    "int randomNumber = (int)(Math.random() * 101);  \n",
    "System.out.println(randomNumber);"
   ]
  },
  {
   "cell_type": "markdown",
   "metadata": {},
   "source": [
    "### Comparisons\n",
    "Numbers can be compared with ==. Strings (objects) must be compared with equals()."
   ]
  },
  {
   "cell_type": "code",
   "execution_count": 13,
   "metadata": {},
   "outputs": [
    {
     "name": "stdout",
     "output_type": "stream",
     "text": [
      "true\n",
      "false\n"
     ]
    }
   ],
   "source": [
    "// assigning variables\n",
    "int x = 2;\n",
    "int y = 2;\n",
    "int z = 1;\n",
    "\n",
    "// return True\n",
    "System.out.println(x == y);\n",
    "\n",
    "// return False\n",
    "System.out.println(x == z);"
   ]
  },
  {
   "cell_type": "code",
   "execution_count": 15,
   "metadata": {},
   "outputs": [
    {
     "name": "stdout",
     "output_type": "stream",
     "text": [
      "false\n",
      "true\n"
     ]
    }
   ],
   "source": [
    "// assigning strings\n",
    "String a = \"Hi\";\n",
    "String b = \"Bye\";\n",
    "String c = \"Hi\";\n",
    "\n",
    "// this should return false\n",
    "System.out.println(a.equals(b));\n",
    "// this should return true\n",
    "System.out.println(a.equals(c));"
   ]
  },
  {
   "cell_type": "markdown",
   "metadata": {},
   "source": [
    "## Unit 3: Booleans\n",
    "Booleans can only hold one of two possible values, true or false. They are the simplest data type, and are often used to check loop conditions with >, <, or ==."
   ]
  },
  {
   "cell_type": "markdown",
   "metadata": {},
   "source": [
    "### Compound boolean expression\n",
    "A compound boolean is one that involves several boolean variables."
   ]
  },
  {
   "cell_type": "code",
   "execution_count": 21,
   "metadata": {},
   "outputs": [
    {
     "name": "stdout",
     "output_type": "stream",
     "text": [
      "true\n",
      "false\n",
      "true\n"
     ]
    }
   ],
   "source": [
    "// simple expression\n",
    "boolean x = true;\n",
    "boolean y = false;\n",
    "System.out.println(x);\n",
    "System.out.println(y);\n",
    "\n",
    "// compound\n",
    "boolean compound = !(x && y) || (x || y) && !(x || y);\n",
    "System.out.println(compound)"
   ]
  },
  {
   "cell_type": "markdown",
   "metadata": {},
   "source": [
    "### Truth Tables\n",
    "Truth tables are used to view all the possible values of a boolean, given all possible values of the variables they use. \n",
    "![](https://sites.millersville.edu/bikenaga/math-proof/truth-tables/truth-tables36.png)"
   ]
  },
  {
   "cell_type": "markdown",
   "metadata": {},
   "source": [
    "### DeMorgan's Law\n",
    "Essentially !(a && b) = !a || !b and !(a || b) = !a && !b. You distribute the negation of the and expression to each of the individual components of the or expression, and vice versa."
   ]
  },
  {
   "cell_type": "code",
   "execution_count": 24,
   "metadata": {},
   "outputs": [
    {
     "name": "stdout",
     "output_type": "stream",
     "text": [
      "false\n"
     ]
    }
   ],
   "source": [
    "boolean x = false;\n",
    "boolean y = false;\n",
    "\n",
    "// De Morgan's Law two\n",
    "boolean testDMLaw = !(!x || !y) && !(!x && !y);\n",
    "System.out.println(testDMLaw);"
   ]
  },
  {
   "cell_type": "markdown",
   "metadata": {},
   "source": [
    "## Unit 4: Iteration\n",
    "[Link to notebook](https://xiaoa0.github.io/fastpages2/cbunits/2022/10/18/iteration.html)\n",
    "Iteration uses loops that continue based on certain conditions. You can have several loops nested in one another\n",
    "- For continues \n",
    "- While continues while a certain condition(s) remain true\n",
    "- Recursive recurs by calling itself"
   ]
  },
  {
   "cell_type": "markdown",
   "metadata": {},
   "source": [
    "### For loops\n",
    "For loops continue for as long as a certain condition is met, and end after. "
   ]
  },
  {
   "cell_type": "code",
   "execution_count": 27,
   "metadata": {},
   "outputs": [
    {
     "name": "stdout",
     "output_type": "stream",
     "text": [
      "1\n",
      "3\n",
      "5\n",
      "7\n",
      "9\n"
     ]
    }
   ],
   "source": [
    "// regular for loop\n",
    "for (int i = 1; i<=9; i+=2) { // condition for ending loop is when current integer is <= 9\n",
    "    System.out.println(i);\n",
    "  }"
   ]
  },
  {
   "cell_type": "code",
   "execution_count": 33,
   "metadata": {},
   "outputs": [
    {
     "name": "stdout",
     "output_type": "stream",
     "text": [
      "2\n",
      "4\n",
      "6\n",
      "8\n",
      "10\n"
     ]
    }
   ],
   "source": [
    "// enhanced loop for array\n",
    "int[] array = {2, 4, 6, 8, 10};\n",
    "\n",
    "// syntax is for (dataType variable : array)\n",
    "for (int a : array) {\n",
    "    System.out.println(a);\n",
    "  }"
   ]
  },
  {
   "cell_type": "markdown",
   "metadata": {},
   "source": [
    "### While loops\n",
    "While loops continue while a condition is met (checking each iteration before). Do while loops check the condition after the iteration. "
   ]
  },
  {
   "cell_type": "code",
   "execution_count": 40,
   "metadata": {},
   "outputs": [
    {
     "name": "stdout",
     "output_type": "stream",
     "text": [
      "0\n",
      "1\n",
      "2\n",
      "3\n",
      "4\n",
      "5\n"
     ]
    }
   ],
   "source": [
    "// regular while loop\n",
    "int i = 0;\n",
    "while (i <= 5) {\n",
    "  System.out.println(i);\n",
    "  i++;\n",
    "}\n"
   ]
  },
  {
   "cell_type": "code",
   "execution_count": 39,
   "metadata": {},
   "outputs": [],
   "source": [
    "// if i set the parameter i to >5 in the beginning it will not output anything\n",
    "int i = 6; // regular while loop\n",
    "while (i <= 5) {\n",
    "  System.out.println(i);\n",
    "  i++;\n",
    "}\n"
   ]
  },
  {
   "cell_type": "code",
   "execution_count": 38,
   "metadata": {},
   "outputs": [
    {
     "name": "stdout",
     "output_type": "stream",
     "text": [
      "0\n",
      "1\n",
      "2\n",
      "3\n",
      "4\n",
      "5\n"
     ]
    }
   ],
   "source": [
    "// do while loop\n",
    "int i = 0;\n",
    "do {\n",
    "  System.out.println(i);\n",
    "  i++;\n",
    "}\n",
    "while (i <= 5); // condition is at the end"
   ]
  },
  {
   "cell_type": "markdown",
   "metadata": {},
   "source": [
    "### Nested loops\n",
    "A nested loop is a loop inside a loop. This is very useful for managing program abstraction and complexity. "
   ]
  },
  {
   "cell_type": "code",
   "execution_count": 10,
   "metadata": {},
   "outputs": [
    {
     "name": "stdout",
     "output_type": "stream",
     "text": [
      "Outer: 1\n",
      "  Inner: 1\n",
      "  Inner: 2\n",
      "Outer: 2\n",
      "  Inner: 1\n",
      "  Inner: 2\n",
      "Outer: 3\n",
      "  Inner: 1\n",
      "  Inner: 2\n"
     ]
    }
   ],
   "source": [
    "// Outer loop\n",
    "for (int i = 1; i <= 3; i++) { // printing i and adding 1 each time, 3 times\n",
    "    System.out.println(\"Outer: \" + i); \n",
    "    \n",
    "    // Inner loop\n",
    "    for (int j = 1; j <= 2; j++) { // runs 2 times for each loop of the outer\n",
    "      System.out.println(\"  Inner: \" + j); \n",
    "    }\n",
    "  }"
   ]
  },
  {
   "attachments": {},
   "cell_type": "markdown",
   "metadata": {},
   "source": [
    "## Unit 5: Classes\n",
    "[Link to notebook](https://xiaoa0.github.io/fastpages2/cbunits/jupyter/2022/11/20/classes.html)\n",
    "\n",
    "A class is a blueprint with properties and methods. They serve as blueprints for creating objects. Properties can either be public or private (accessible outside of the class), and methods can modify objects (object-oriented). You can use methods such as getter and setter to modify the class properties."
   ]
  },
  {
   "cell_type": "markdown",
   "metadata": {},
   "source": [
    "### Creating a Class\n",
    "Use the \"class\" keyword, capitalize first letter and use CamelCase"
   ]
  },
  {
   "cell_type": "code",
   "execution_count": 6,
   "metadata": {},
   "outputs": [],
   "source": [
    "class ThisClass {\n",
    "    \n",
    "}"
   ]
  },
  {
   "cell_type": "markdown",
   "metadata": {},
   "source": [
    "### Main and Tester methods\n",
    "Main method is used to test a class, automatically called and can test other methods."
   ]
  },
  {
   "cell_type": "code",
   "execution_count": 7,
   "metadata": {},
   "outputs": [],
   "source": [
    "class Hello {\n",
    "    public static void main (String[] args) {\n",
    "        Hello object = new Hello();\n",
    "    }\n",
    "}\n",
    "\n",
    "Hello.main(null);"
   ]
  },
  {
   "attachments": {},
   "cell_type": "markdown",
   "metadata": {},
   "source": [
    "### This keyword\n",
    "Used to access properties of a class.\n",
    "\n",
    "### Constructor\n",
    "Used to initialize objects."
   ]
  },
  {
   "cell_type": "code",
   "execution_count": 16,
   "metadata": {},
   "outputs": [
    {
     "name": "stdout",
     "output_type": "stream",
     "text": [
      "2\n"
     ]
    }
   ],
   "source": [
    "public class Main {\n",
    "    int a;\n",
    "\n",
    "    public Main(int a) {\n",
    "        this.a = a; // using this to access a\n",
    "      }\n",
    "    public static void main(String[] args) {\n",
    "        Main newObject = new Main(2); // this is the constructor\n",
    "        System.out.println(newObject.a);\n",
    "    }\n",
    "}\n",
    "\n",
    "Main.main(null);"
   ]
  },
  {
   "attachments": {},
   "cell_type": "markdown",
   "metadata": {},
   "source": [
    "### Accessor/Getter method\n",
    "Allows you to get values of variables, no parameters and not void since it returns something.\n",
    "\n",
    "### Mutator/Setter method\n",
    "Allows you to change variable values, void since it takes parameters but doesn't return anything."
   ]
  },
  {
   "cell_type": "code",
   "execution_count": 21,
   "metadata": {},
   "outputs": [],
   "source": [
    "public class Main {\n",
    "    private String hello; // private variable\n",
    "\n",
    "    public String getHello() { // getting private hello str\n",
    "        return hello;\n",
    "    }\n",
    "\n",
    "    public void setHello (String hello) { // method to set hello\n",
    "        this.hello = hello;\n",
    "    }\n",
    "}"
   ]
  },
  {
   "attachments": {},
   "cell_type": "markdown",
   "metadata": {},
   "source": [
    "### Access modifier\n",
    "Types of access: public, private (in-class only), protected (all classes in package and subclasses outside)."
   ]
  },
  {
   "cell_type": "code",
   "execution_count": 23,
   "metadata": {},
   "outputs": [],
   "source": [
    "public void PublicTest() {\n",
    "    System.out.println(\"Hello, world!\");\n",
    "}\n",
    "\n",
    "private void PrivateTest() {\n",
    "    System.out.println(\"Hello, world!\");\n",
    "}\n",
    "\n",
    "protected void ProtectedTest() {\n",
    "    System.out.println(\"Hello, world!\");\n",
    "}"
   ]
  }
 ],
 "metadata": {
  "kernelspec": {
   "display_name": "Java",
   "language": "java",
   "name": "java"
  },
  "language_info": {
   "codemirror_mode": "java",
   "file_extension": ".jshell",
   "mimetype": "text/x-java-source",
   "name": "java",
   "pygments_lexer": "java",
   "version": "17.0.5+9-LTS-191"
  },
  "orig_nbformat": 4,
  "vscode": {
   "interpreter": {
    "hash": "d805617afbb4f0c1c1591ddf7a48349c925092e949d00eefe7ca93909b4ab948"
   }
  }
 },
 "nbformat": 4,
 "nbformat_minor": 2
}
