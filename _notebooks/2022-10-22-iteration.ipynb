{
 "cells": [
  {
   "cell_type": "markdown",
   "metadata": {},
   "source": [
    "# \"Unit 4: Iteration\"\n",
    "\n",
    "- categories: [CBUnits, jupyter]"
   ]
  },
  {
   "cell_type": "markdown",
   "metadata": {},
   "source": [
    "### What is Iteration?\n",
    "- Reepated sequences to simply advanced code\n",
    "- Operators include ++ or -- (urary), arithmetic (basic forms), and more (see table)"
   ]
  },
  {
   "cell_type": "markdown",
   "metadata": {},
   "source": [
    "### Loops\n",
    "- While loop: loops WHILE a condition is true, can also check inputs\n",
    "- For loop: loops FOR as long as a condition is met, stops after\n",
    "- Recursion: function calls ITSELF to repeat (recursing)\n",
    "- Nested iteration: loop inside a loop"
   ]
  }
 ],
 "metadata": {
  "kernelspec": {
   "display_name": "Python 3.10.8 64-bit",
   "language": "python",
   "name": "python3"
  },
  "language_info": {
   "name": "python",
   "version": "3.10.8"
  },
  "orig_nbformat": 4,
  "vscode": {
   "interpreter": {
    "hash": "b0fa6594d8f4cbf19f97940f81e996739fb7646882a419484c72d19e05852a7e"
   }
  }
 },
 "nbformat": 4,
 "nbformat_minor": 2
}
