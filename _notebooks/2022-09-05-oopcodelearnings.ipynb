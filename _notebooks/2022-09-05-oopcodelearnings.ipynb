{
 "cells": [
  {
   "cell_type": "markdown",
   "metadata": {},
   "source": [
    "# Code.org learnings\n",
    "\n",
    "- comments: true\n",
    "- categories: [jupyter]"
   ]
  },
  {
   "cell_type": "markdown",
   "metadata": {},
   "source": [
    "- Java is case-sensitive\n",
    "- Create an object (instance of a class) with 'ClassName newObject = new ClassName();' format\n",
    "- Can invoke methods on objects with 'objectName.methodName();' format\n",
    "- Methods are like functions/algorithms, you can store them in separate files and then call them in main file\n",
    "- When doing so remember to extend the class\n",
    "- if/while loop parameter format is 'if/when (objectName.condition())'\n",
    "- Pay attention to indentation and formatting. Organization is key not only for compiling but also for human readability"
   ]
  },
  {
   "cell_type": "code",
   "execution_count": null,
   "metadata": {},
   "outputs": [],
   "source": [
    "import org.code.neighborhood.Painter;\n",
    "\n",
    "public class MyNeighborhood {\n",
    "  public static void main(String[] args) {\n",
    "   // constructing an instance (object)\n",
    "    Painter myPainter = new Painter();\n",
    "    // how to use a method with an object\n",
    "    myPainter.move();\n",
    "    myPainter.takePaint();\n",
    "\n",
    "    myPainter.turnLeft();\n",
    "    myPainter.turnLeft();\n",
    "    myPainter.turnLeft();\n",
    "\n",
    "    myPainter.move();\n",
    "    \n",
    "  }\n",
    "}"
   ]
  },
  {
   "cell_type": "code",
   "execution_count": null,
   "metadata": {},
   "outputs": [],
   "source": [
    "import org.code.neighborhood.Painter;\n",
    "// separate methods in PainterPlus file\n",
    "public class PainterPlus extends Painter {\n",
    "  public PainterPlus() {\n",
    "    super();\n",
    "  }\n",
    "  // turnRight is actually rotating left 3 times\n",
    "  public void turnRight() {\n",
    "    turnLeft();\n",
    "    turnLeft();\n",
    "    turnLeft();\n",
    "  }\n",
    "  // using if and while loops, parameter format is 'objectName.givenCondition()'\n",
    "  public void takeAllPaint() {\n",
    "    if (myPainterPlus.isOnBucket()) {\n",
    "      while (myPainterplus.isOnBucket()) {\n",
    "        takePaint();\n",
    "      }\n",
    "    }\n",
    "  }\n",
    "  // mind indentation/formatting for code in method\n",
    "  public void paintLine(String color) {\n",
    "    while (myPainterPlus.canMoveForward()) {\n",
    "      paintColor();\n",
    "      myPainterPlus.moveForward();\n",
    "    }\n",
    "}\n",
    "\n",
    "\n",
    "}"
   ]
  }
 ],
 "metadata": {
  "kernelspec": {
   "display_name": "Java",
   "language": "java",
   "name": "java"
  },
  "language_info": {
   "codemirror_mode": "java",
   "file_extension": ".jshell",
   "mimetype": "text/x-java-source",
   "name": "java",
   "pygments_lexer": "java",
   "version": "17.0.3+7"
  },
  "orig_nbformat": 4,
  "vscode": {
   "interpreter": {
    "hash": "cca942544a13735e0b500f1ac16a217b44980d9f203f77f6d4313b106e747e9e"
   }
  }
 },
 "nbformat": 4,
 "nbformat_minor": 2
}
