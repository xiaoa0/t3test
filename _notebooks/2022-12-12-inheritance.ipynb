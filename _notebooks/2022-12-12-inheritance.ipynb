{
 "cells": [
  {
   "attachments": {},
   "cell_type": "markdown",
   "metadata": {},
   "source": [
    "# \"Unit 9: Inheritance\"\n",
    "\n",
    "- categories: [CBUnits, jupyter]"
   ]
  },
  {
   "attachments": {},
   "cell_type": "markdown",
   "metadata": {},
   "source": [
    "### Notes\n",
    "- Inheritance is used to store attributes for subclasses, making abstraction easier and reducing risk of error\n",
    "- Subclass constructor has to include \"super\" to access superclass parameters\n",
    "- Use @Override to override a method\n",
    "- One useful superclass is Object from java.lang\n",
    "- Polymorphism is when a method is used for different tasks in different classes (different forms)"
   ]
  },
  {
   "attachments": {},
   "cell_type": "markdown",
   "metadata": {},
   "source": [
    "### Homework"
   ]
  },
  {
   "attachments": {},
   "cell_type": "markdown",
   "metadata": {},
   "source": [
    "World Cup superclass\n",
    "\n",
    "- Create a world cup superclass with properties of your choice and subclasses for five teams which inherits those properties\n",
    "- Write a constructor for one of those subclasses"
   ]
  },
  {
   "cell_type": "code",
   "execution_count": 1,
   "metadata": {
    "vscode": {
     "languageId": "java"
    }
   },
   "outputs": [
    {
     "name": "stdout",
     "output_type": "stream",
     "text": [
      "Team name: USA, Wins = 3, Losses = 1, Games = 4\n",
      "Team name: Spain, Wins = 2, Losses = 2, Games = 4\n",
      "Team name: France, Wins = 4, Losses = 1, Games = 5\n",
      "Team name: Morocco, Wins = 4, Losses = 0, Games = 6\n",
      "Team name: Argentina, Wins = 5, Losses = 1, Games = 6\n"
     ]
    }
   ],
   "source": [
    "public class WorldCup {\n",
    "    public int wins;\n",
    "    public int losses;\n",
    "    public int games;\n",
    "\n",
    "    public WorldCup (int wins, int losses, int games) {\n",
    "        this.wins = wins;\n",
    "        this.losses = losses;\n",
    "        this.games = games;\n",
    "    }\n",
    "\n",
    "    public String toString () {\n",
    "        return \"Wins = \" + this.wins + \", Losses = \" + this.losses + \", Games = \" + this.games;\n",
    "    }\n",
    "\n",
    "}\n",
    "\n",
    "public class USA extends WorldCup { \n",
    "    public USA (int wins, int losses, int games) {\n",
    "        super (wins, losses, games);\n",
    "    }\n",
    "}\n",
    "\n",
    "public class Spain extends WorldCup { \n",
    "    public Spain (int wins, int losses, int games) {\n",
    "        super (wins, losses, games);\n",
    "    }\n",
    "}\n",
    "\n",
    "public class France extends WorldCup { \n",
    "    public France (int wins, int losses, int games) {\n",
    "        super (wins, losses, games);\n",
    "    }\n",
    "}\n",
    "\n",
    "public class Morocco extends WorldCup { \n",
    "    public Morocco (int wins, int losses, int games) {\n",
    "        super (wins, losses, games);\n",
    "    }\n",
    "}\n",
    "\n",
    "public class Argentina extends WorldCup { \n",
    "    public Argentina (int wins, int losses, int games) {\n",
    "        super (wins, losses, games);\n",
    "    }\n",
    "}\n",
    "\n",
    "public class Test {\n",
    "    public static void Main(String[] args) {\n",
    "        USA usa = new USA(3, 1, 4);\n",
    "        System.out.println(\"Team name: USA, \" + usa);\n",
    "\n",
    "        Spain spain = new Spain(2, 2, 4);\n",
    "        System.out.println(\"Team name: Spain, \" + spain);\n",
    "\n",
    "        France france = new France(4, 1, 5);\n",
    "        System.out.println(\"Team name: France, \" + france);\n",
    "\n",
    "        Morocco morocco = new Morocco(4, 0, 6);\n",
    "        System.out.println(\"Team name: Morocco, \" + morocco);\n",
    "\n",
    "        Argentina argentina = new Argentina(5, 1, 6);\n",
    "        System.out.println(\"Team name: Argentina, \" + argentina);\n",
    "    }\n",
    "}\n",
    "Test.Main(null);"
   ]
  },
  {
   "attachments": {},
   "cell_type": "markdown",
   "metadata": {},
   "source": [
    "Teacher extended class\n",
    "\n",
    "- Add a getAge method in the Person super class\n",
    "- Create a new subclass Student with additional members of your choice to personalize the Student class\n",
    "- Create a new subclass Teacher with additiona members of your choice\n",
    "- Override the toString method using the @Override to print a Student and teacher object with new members\n",
    "- Print the student and teacher"
   ]
  },
  {
   "cell_type": "code",
   "execution_count": 3,
   "metadata": {
    "vscode": {
     "languageId": "java"
    }
   },
   "outputs": [],
   "source": [
    "import java.util.Date;\n",
    "\n",
    "public class Person {\n",
    "    private String name;\n",
    "    private String birthday;\n",
    " \n",
    "    public Person (String name, String birthday){\n",
    "       this.name = name;\n",
    "       this.birthday = birthday;\n",
    "    }\n",
    "\n",
    "    public int getAge() {\n",
    "      return (LocalDate.now());\n",
    "    }\n",
    " \n",
    "    public String getName(){\n",
    "       return name;\n",
    "    }\n",
    " }\n",
    " \n",
    " public class Student extends Person {\n",
    "    private int grade;\n",
    "    private double gpa;\n",
    " \n",
    "    public Student (String name, String birthday, int grade, double gpa) {\n",
    "       super(name, birthday);\n",
    "       this.grade = grade;\n",
    "       this.gpa = gpa;\n",
    "    }\n",
    " \n",
    "    public int getGrade(){\n",
    "       return grade;\n",
    "    }\n",
    " }"
   ]
  }
 ],
 "metadata": {
  "kernelspec": {
   "display_name": "Java",
   "language": "java",
   "name": "java"
  },
  "language_info": {
   "codemirror_mode": "java",
   "file_extension": ".jshell",
   "mimetype": "text/x-java-source",
   "name": "Java",
   "pygments_lexer": "java",
   "version": "17.0.5+8"
  },
  "orig_nbformat": 4
 },
 "nbformat": 4,
 "nbformat_minor": 2
}
