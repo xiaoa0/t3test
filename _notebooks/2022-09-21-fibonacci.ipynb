{
 "cells": [
  {
   "cell_type": "markdown",
   "metadata": {},
   "source": [
    "# Fibonacci with loops\n",
    "> Practice with for, while, and recursion\n",
    "\n",
    "- toc: true\n",
    "- comments: true\n",
    "- categories: [APprep, jupyter]"
   ]
  },
  {
   "cell_type": "markdown",
   "metadata": {},
   "source": [
    "# For Loop"
   ]
  },
  {
   "cell_type": "code",
   "execution_count": 8,
   "metadata": {
    "vscode": {
     "languageId": "java"
    }
   },
   "outputs": [
    {
     "name": "stdout",
     "output_type": "stream",
     "text": [
      "1: 1\n",
      "2: 2\n",
      "3: 3\n",
      "4: 5\n",
      "5: 8\n",
      "6: 13\n",
      "7: 21\n",
      "8: 34\n",
      "9: 55\n",
      "10: 89\n"
     ]
    }
   ],
   "source": [
    "public class ForFibo {\n",
    "\n",
    "    public static void main(int counter) { // making class with counter as a parameter\n",
    "\n",
    "        int a = 0; // first two numbers to be added together\n",
    "        int b = 1;\n",
    "        int c; // c is going to store added value\n",
    "        \n",
    "        for (int x = 0; x < counter; x++) { // starting with x = 0, looping and adding 1 to x so long as x < counter\n",
    "            c = a + b;\n",
    "            System.out.println(x + 1 + \": \" + c);\n",
    "            a = b; // shifting a and b values up by one\n",
    "            b = c;\n",
    "        }\n",
    "    }\n",
    "}\n",
    "\n",
    "ForFibo.main(10);"
   ]
  },
  {
   "cell_type": "markdown",
   "metadata": {},
   "source": [
    "# While Loop"
   ]
  },
  {
   "cell_type": "code",
   "execution_count": 5,
   "metadata": {
    "vscode": {
     "languageId": "java"
    }
   },
   "outputs": [
    {
     "name": "stdout",
     "output_type": "stream",
     "text": [
      "Fibonacci While Loop\n",
      "1: 1\n",
      "2: 2\n",
      "3: 3\n",
      "4: 5\n",
      "5: 8\n",
      "6: 13\n",
      "7: 21\n",
      "8: 34\n",
      "9: 55\n",
      "10: 89\n"
     ]
    }
   ],
   "source": [
    "public class WhileFibo {\n",
    "\n",
    "    public static void main(int counter) { // this time initializing x outside of loop\n",
    " \n",
    "        int a = 0;\n",
    "        int b = 1;\n",
    "        int c;\n",
    "        int x = 0;\n",
    "\n",
    "        System.out.println(\"Fibonacci While Loop\");\n",
    "\n",
    "        while (x < counter) { // same procedure, using counter as target parameter for x and looping through a b and c\n",
    "            c = a + b;\n",
    "            System.out.println(x + 1 + \": \" + c); \n",
    "            a = b;\n",
    "            b = c;\n",
    "            x++;\n",
    "        }\n",
    "    }\n",
    "}\n",
    "\n",
    "WhileFibo.main(10);"
   ]
  },
  {
   "cell_type": "markdown",
   "metadata": {},
   "source": [
    "# Recursion"
   ]
  },
  {
   "cell_type": "code",
   "execution_count": 3,
   "metadata": {
    "vscode": {
     "languageId": "java"
    }
   },
   "outputs": [
    {
     "name": "stdout",
     "output_type": "stream",
     "text": [
      "10: 1\n",
      "9: 2\n",
      "8: 3\n",
      "7: 5\n",
      "6: 8\n",
      "5: 13\n",
      "4: 21\n",
      "3: 34\n",
      "2: 55\n",
      "1: 89\n"
     ]
    }
   ],
   "source": [
    "public class RecursiveFibo {\n",
    "\n",
    "   public static void main(int a, int b, int counter) { // since it's recursive the class relies on the basic 'tracker' integers\n",
    "   // as parameters\n",
    "       int c; // again using c as number storage, x as variable that gets updated to match counter\n",
    "       int x = 0;\n",
    "\n",
    "       if (x < counter) {\n",
    "           c = a + b;\n",
    "           System.out.println(counter + \": \" + c); \n",
    "           a = b;\n",
    "           b = c;\n",
    "           counter--; // instead of counting up to a certain point this loop subtracts from counter until it matches x\n",
    "           RecursiveFibo.main(a, b, counter);\n",
    "       }\n",
    "   }\n",
    "}\n",
    "\n",
    "RecursiveFibo.main(0, 1, 10);"
   ]
  },
  {
   "cell_type": "markdown",
   "metadata": {},
   "source": [
    "# CB Standards\n",
    "\n",
    "**Skill 1.B:Determine code that would be used to complete code segments (ie For, While, Recursion)**\n",
    "- For loop: ```for (int x = 0; x < counter; x++)```\n",
    "- While loop: ```while (x < counter)```\n",
    "- Recursion: \n",
    "\n",
    "**Skill 4.C: Determine if two or more code segments yield equivalent results (be sure to Discuss how you know results are the same)**\n",
    "Part of output line in oop is including the number's place in the sequence, and so we can use that to confirm that the results are the same\n",
    "\n",
    "**Skill 5.A: Describe the behavior of a given segment of program code (describe the difference in recursion versus for & while loops, perhaps add timing to determine speed)**\n",
    "For and while are fairly similar because they both use several integer values to iterate through a loop to reach a certain number of repeats. The primary difference is that one uses the \"x\" integer (which is modified by adding to one for each loop) inside the loop, and the other instantiates it outside of the loop. However, recursion takes three basic integers as parameters because it depends on the initialized values to loop. Moreover, the function is called as part of a loop. The recursive function also relies on reducing the counter variable until it matches 0, because trying to count up leads to an infinite loop."
   ]
  }
 ],
 "metadata": {
  "kernelspec": {
   "display_name": "Java",
   "language": "java",
   "name": "java"
  },
  "language_info": {
   "codemirror_mode": "java",
   "file_extension": ".jshell",
   "mimetype": "text/x-java-source",
   "name": "Java",
   "pygments_lexer": "java",
   "version": "17.0.5+8"
  },
  "orig_nbformat": 4
 },
 "nbformat": 4,
 "nbformat_minor": 2
}
