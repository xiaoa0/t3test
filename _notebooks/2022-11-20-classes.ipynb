{
 "cells": [
  {
   "cell_type": "markdown",
   "metadata": {},
   "source": [
    "# \"Unit 5: Writing Classes\"\n",
    "\n",
    "- categories: [CBUnits, jupyter]"
   ]
  },
  {
   "attachments": {},
   "cell_type": "markdown",
   "metadata": {},
   "source": [
    "### Notes\n",
    "- Classes are \"blueprints\" for objects\n",
    "- Define abstract data type, reference objects and instance variables\n",
    "- Objects store state, attributes, behavior"
   ]
  },
  {
   "attachments": {},
   "cell_type": "markdown",
   "metadata": {},
   "source": [
    "### Operations\n",
    "- Methods are behaviors or actions (think functions) applied to objects\n",
    "- Use constructors to make objects\n",
    "- Main method used to test class (public static void)"
   ]
  },
  {
   "attachments": {},
   "cell_type": "markdown",
   "metadata": {},
   "source": [
    "### Methods\n",
    "- Accessor methods lets you 'get' variable values\n",
    "- Mutator methods lets you change instance variables\n",
    "- Non-void methods return value of data type, no parameters\n",
    "- Void methods don't return anything but take parameters"
   ]
  },
  {
   "cell_type": "code",
   "execution_count": null,
   "metadata": {
    "vscode": {
     "languageId": "java"
    }
   },
   "outputs": [],
   "source": [
    "// modifier, return type, name, parameters\n",
    "public double getArea (double width, double height) {\n",
    "    // method body\n",
    "}"
   ]
  },
  {
   "attachments": {},
   "cell_type": "markdown",
   "metadata": {},
   "source": [
    "### Homework\n",
    "2021 1a, 3a"
   ]
  },
  {
   "cell_type": "code",
   "execution_count": null,
   "metadata": {
    "vscode": {
     "languageId": "java"
    }
   },
   "outputs": [],
   "source": [
    "// 1a: write the method scoreGuess\n",
    "\n",
    "public class WordMatch {\n",
    "    private String secret;\n",
    "\n",
    "    public WordMatch(String word) {\n",
    "    \n",
    "    }\n",
    "\n",
    "    public int scoreGuess(String guess) { \n",
    "        int score = 0;\n",
    "        for (int i = 0; i<= secret.length()-guess.length(); i++) {\n",
    "            if (secret.substring(i, i+guess.length()) == guess) {\n",
    "                score++;\n",
    "            }\n",
    "        }\n",
    "    }\n",
    "    return score * guess.length() * guess.length();\n",
    "}"
   ]
  },
  {
   "cell_type": "code",
   "execution_count": null,
   "metadata": {
    "vscode": {
     "languageId": "java"
    }
   },
   "outputs": [],
   "source": [
    "// 3a: Write the ClubMembers method addMembers\n",
    "\n",
    "public class ClubMembers {\n",
    "    private ArrayList<MemberInfo> memberList;\n",
    "\n",
    "    public void addMembers(String[] names, int gradYear) { \n",
    "        for (String name : names) {\n",
    "            memberList.add(new MemberInfo(name, gradYear, t));\n",
    "        }\n",
    "    }\n",
    "}"
   ]
  }
 ],
 "metadata": {
  "kernelspec": {
   "display_name": "Java",
   "language": "java",
   "name": "java"
  },
  "language_info": {
   "codemirror_mode": "java",
   "file_extension": ".jshell",
   "mimetype": "text/x-java-source",
   "name": "Java",
   "pygments_lexer": "java",
   "version": "17.0.5+9-LTS-191"
  },
  "orig_nbformat": 4
 },
 "nbformat": 4,
 "nbformat_minor": 2
}
