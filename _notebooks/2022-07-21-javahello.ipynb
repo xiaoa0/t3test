{
 "cells": [
  {
   "cell_type": "markdown",
   "metadata": {},
   "source": [
    "# Java hello page\n",
    "\n",
    "- categories: [jupyter]"
   ]
  },
  {
   "cell_type": "code",
   "execution_count": 1,
   "metadata": {},
   "outputs": [
    {
     "name": "stdout",
     "output_type": "stream",
     "text": [
      "Hello World!\n"
     ]
    }
   ],
   "source": [
    "// Define Static Method within a Class\n",
    "public class HelloStatic {\n",
    "    // Java standard runtime entry point\n",
    "    public static void main(String[] args) {    \n",
    "        System.out.println(\"Hello World!\");\n",
    "    }\n",
    "}\n",
    "// A method call allows us to execute code that is wrapped in Class\n",
    "HelloStatic.main(null);   // Class prefix allows reference of Static Method"
   ]
  }
 ],
 "metadata": {
  "kernelspec": {
   "display_name": "Java",
   "language": "java",
   "name": "java"
  },
  "language_info": {
   "codemirror_mode": "java",
   "file_extension": ".jshell",
   "mimetype": "text/x-java-source",
   "name": "java",
   "pygments_lexer": "java",
   "version": "17.0.3+7"
  },
  "orig_nbformat": 4
 },
 "nbformat": 4,
 "nbformat_minor": 2
}
