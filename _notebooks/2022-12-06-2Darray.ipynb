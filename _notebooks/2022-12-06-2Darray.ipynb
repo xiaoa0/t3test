{
 "cells": [
  {
   "cell_type": "markdown",
   "metadata": {},
   "source": [
    "# \"Unit 8: 2D Arrays\"\n",
    "\n",
    "- categories: [CBUnits, jupyter]"
   ]
  },
  {
   "attachments": {},
   "cell_type": "markdown",
   "metadata": {},
   "source": [
    "### Homework\n",
    "\n",
    "- Create a class for 2D array learning.\n",
    "- Create a method to initialize a 2D array with arbitrary values\n",
    "- Create a method to reverse the 2D array and print out the values\n",
    "- Create a method that asks for the input of a position and it returns the corresponding value\n",
    "- Create a method that multiplies each value in a row and then adds all the products together\n",
    "- Create a new object to test out each method in the main function"
   ]
  },
  {
   "cell_type": "code",
   "execution_count": 1,
   "metadata": {},
   "outputs": [
    {
     "name": "stdout",
     "output_type": "stream",
     "text": [
      "0 \n",
      "1 \n",
      "2 \n",
      "\n",
      "1 \n",
      "2 \n",
      "3 \n",
      "\n",
      "3 \n",
      "2 \n",
      "1 \n",
      "\n",
      "2 \n",
      "1 \n",
      "0 \n",
      "\n",
      "Input row (0-2): \n",
      "Input column (0-2): \n",
      "1\n",
      "Sum of row products: 6\n"
     ]
    }
   ],
   "source": [
    "import java.util.Scanner;\n",
    "import java.util.Random;\n",
    "\n",
    "public class Homework {\n",
    "\n",
    "    int[][] numbers;\n",
    "\n",
    "    public void printValues() { // arbitrary values\n",
    "        for (int a = 0; a<numbers.length; a++) {\n",
    "            for (int b = 0; b<numbers[a].length; b++) {\n",
    "                numbers[a][b] = a + b; // spacing\n",
    "                System.out.println(numbers[a][b] + \" \"); // spacing\n",
    "            }\n",
    "            System.out.println();\n",
    "        }\n",
    "    }\n",
    "\n",
    "    public void reverseValues() {\n",
    "        for (int a = numbers.length-1; a >= 0; a--) { // running for loop from ends of array\n",
    "            for (int b = numbers[a].length-1; b >= 0; b--) {\n",
    "                System.out.println(numbers[a][b] + \" \");\n",
    "            }\n",
    "            System.out.println();\n",
    "        }\n",
    "    }\n",
    "\n",
    "    public void findPosition() {\n",
    "        Scanner scanner = new Scanner(System.in);\n",
    "\n",
    "        System.out.println(\"Input row (0-2): \");\n",
    "        int a = scanner.nextInt();\n",
    "        System.out.println(\"Input column (0-2): \");\n",
    "        int b = scanner.nextInt();\n",
    "\n",
    "        System.out.println(numbers[a][b]);\n",
    "    }\n",
    "\n",
    "    public void mathNumbers() {\n",
    "        int total = 0;\n",
    "\n",
    "        for (int a = 0; a < numbers.length; a++) {\n",
    "            int product = 1;\n",
    "            for (int b = 0; b <numbers[a].length; b++) { // product of row\n",
    "                product = product * numbers[a][b];\n",
    "            }\n",
    "            total += product;\n",
    "        }\n",
    "        System.out.println(\"Sum of row products: \" + total);\n",
    "    }\n",
    "\n",
    "    public static void main(String[] args) {\n",
    "        Homework homework = new Homework();\n",
    "        homework.printValues();\n",
    "        homework.reverseValues();\n",
    "        homework.findPosition();\n",
    "        homework.mathNumbers();\n",
    "    }\n",
    "}\n",
    "Homework.main(null);"
   ]
  }
 ],
 "metadata": {
  "kernelspec": {
   "display_name": "Java",
   "language": "java",
   "name": "java"
  },
  "language_info": {
   "codemirror_mode": "java",
   "file_extension": ".jshell",
   "mimetype": "text/x-java-source",
   "name": "java",
   "pygments_lexer": "java",
   "version": "17.0.5+8"
  },
  "orig_nbformat": 4
 },
 "nbformat": 4,
 "nbformat_minor": 2
}
