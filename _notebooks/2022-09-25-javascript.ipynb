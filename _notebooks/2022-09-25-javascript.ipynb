{
 "cells": [
  {
   "cell_type": "markdown",
   "metadata": {},
   "source": [
    "# Javascript in Jupyter\n",
    "\n",
    "- category: [jupyter]"
   ]
  },
  {
   "cell_type": "code",
   "execution_count": 2,
   "metadata": {},
   "outputs": [
    {
     "ename": "SyntaxError",
     "evalue": "unterminated string literal (detected at line 14) (941180603.py, line 14)",
     "output_type": "error",
     "traceback": [
      "\u001b[1;36m  Input \u001b[1;32mIn [2]\u001b[1;36m\u001b[0m\n\u001b[1;33m    // this build td's into tr\u001b[0m\n\u001b[1;37m                    ^\u001b[0m\n\u001b[1;31mSyntaxError\u001b[0m\u001b[1;31m:\u001b[0m unterminated string literal (detected at line 14)\n"
     ]
    }
   ],
   "source": [
    "const resultContainer = document.getElementById(\"result\");\n",
    "... build data table ....\n",
    "for (const row of data) {\n",
    "    // tr for each row\n",
    "    const tr = document.createElement(\"tr\");\n",
    "    // td for each column\n",
    "    const joke = document.createElement(\"td\");\n",
    "    const haha = document.createElement(\"td\");\n",
    "    const boohoo = document.createElement(\"td\");\n",
    "    // data is specific to the API\n",
    "    joke.innerHTML = row.joke;\n",
    "    haha.innerHTML = row.haha; \n",
    "    boohoo.innerHTML = row.boohoo; \n",
    "    // this build td's into tr\n",
    "    tr.appendChild(joke);\n",
    "    tr.appendChild(haha);\n",
    "    tr.appendChild(boohoo);\n",
    "    // add HTML to container\n",
    "    resultContainer.appendChild(tr);\n",
    "}\n"
   ]
  }
 ],
 "metadata": {
  "kernelspec": {
   "display_name": "Java",
   "language": "java",
   "name": "java"
  },
  "language_info": {
   "codemirror_mode": {
    "name": "ipython",
    "version": 3
   },
   "file_extension": ".py",
   "mimetype": "text/x-python",
   "name": "java",
   "nbconvert_exporter": "python",
   "pygments_lexer": "ipython3",
   "version": "3.10.5"
  },
  "orig_nbformat": 4,
  "vscode": {
   "interpreter": {
    "hash": "cca942544a13735e0b500f1ac16a217b44980d9f203f77f6d4313b106e747e9e"
   }
  }
 },
 "nbformat": 4,
 "nbformat_minor": 2
}
