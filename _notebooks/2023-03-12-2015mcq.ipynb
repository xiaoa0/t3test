{
 "cells": [
  {
   "attachments": {},
   "cell_type": "markdown",
   "metadata": {},
   "source": [
    "# 2015 MCQ Corrections\n",
    "\n",
    "- toc: true\n",
    "- categories: [jupyter, APprep]"
   ]
  },
  {
   "attachments": {},
   "cell_type": "markdown",
   "metadata": {},
   "source": [
    "# Score: 26/39\n",
    "![](https://raw.githubusercontent.com/xiaoa0/fastpages2/master/images/2015%20MCQ.png)\n",
    "\n",
    "### Question 10\n",
    "I ended up guessing A on this one. The correct answer is D because the Athlete class does not use Student.\n",
    "\n",
    "### Question 11\n",
    "I chose A because I forgot the parameters of the substring method and didn't realize it was checking for palindromes.\n",
    "\n",
    "### Question 16\n",
    "I lost track of which variables were tracking the rows and column indexes. The answer is E, since the column index of the largest value is being returned.\n",
    "\n",
    "### Question 21\n",
    "Missed the condition of len > 1, which would print 4 strings starting with WATC.\n",
    "\n",
    "### Question 23\n",
    "The correct answer is E, not C. Two passes of the for loop should produce {3, 4, 5, 2, 1}.\n",
    "\n",
    "### Question 24\n",
    "1 doesn't work because of the same method signatures and parameters, which would cause a compiler error. However 2 and 3 work because the parameter lists are different.\n",
    "\n",
    "### Question 26\n",
    "Got confused with the parameters of the two methods. num, value, and name are not changed when changeIt is called, so the output is 1 2 3 4 5 6 blackboard.\n",
    "\n",
    "### Question 27\n",
    "Correct answer is B, after 3 passes of outer loop (j = 2) only 4 and 5 are swapped.\n",
    "\n",
    "### Question 32\n",
    "I was running out of time so I guessed E. The correct answer is B.\n",
    "\n",
    "### Question 33\n",
    "I didn't realize that 1 and 2 also worked. 1 compares each value in the list using the minimum value as a baseline, and 2 assigns the first element as the greatest value.\n",
    "\n",
    "### Question 37\n",
    "3 also works by reversing the order of words in temp and using that to add words to result until the startIndex value.\n",
    "\n",
    "### Question 38\n",
    "Mixed up the conditions for C and D, the method returns the total count in numbers equal to val.\n",
    "\n",
    "### Question 39\n",
    "Should be C not A, mixed up the order of arraylist edits to Alex Alex Alex.\n"
   ]
  }
 ],
 "metadata": {
  "kernelspec": {
   "display_name": "Java",
   "language": "java",
   "name": "java"
  },
  "language_info": {
   "name": "java"
  },
  "orig_nbformat": 4
 },
 "nbformat": 4,
 "nbformat_minor": 2
}
