{
 "cells": [
  {
   "attachments": {},
   "cell_type": "markdown",
   "metadata": {},
   "source": [
    "# 52 Question Practice Reflection\n",
    "- toc: true\n",
    "- category: [jupyter, APprep]"
   ]
  },
  {
   "attachments": {},
   "cell_type": "markdown",
   "metadata": {},
   "source": [
    "## Score: 31/52\n",
    "\n",
    "![](https://raw.githubusercontent.com/xiaoa0/fastpages2/master/images/52mcq.png)"
   ]
  },
  {
   "attachments": {},
   "cell_type": "markdown",
   "metadata": {},
   "source": [
    "## Reflection\n",
    "I think I struggled the most with the questions involving 2D arrays because I'm still not used to the syntax of the loops used with them. I think all of my missed questions were from that category. In the future, I will try to improve my performance on those questions by finding more MCQs and checking the answer after each question to reinforce my knowledge."
   ]
  },
  {
   "attachments": {},
   "cell_type": "markdown",
   "metadata": {},
   "source": [
    "### Question 4\n",
    "I chose B because I forgot how the substring indexes worked and thought it would print from index 1 to index 3, not from 1 to 2. The answer is C because it prints BCEF.\n",
    "\n",
    "### Question 5\n",
    "The answer is E because the nested for loop traverses the array by column, not row. I got confused and chose D.\n",
    "\n",
    "### Question 7\n",
    "I was confused by the code segment and didn't fully understand what it was meant to do, so I ended up guessing. The correct answer is B because it checks 2 substrings and adds them to res if they match (0 otherwise).\n",
    "\n",
    "### Question 8\n",
    "I chose B because I forgot how the substring method worked and thought the calls were adding a space between each letter. The substrings used were really removing the first letter from each subsequent string, so the answer would be D.\n",
    "\n",
    "### Question 10\n",
    "I chose E instead of D because I forgot that primitives could be concatenated with +=.\n",
    "\n",
    "### Question 11\n",
    "I thought the answer was A but the print operator actually adds the one and two integers together, so it would be 3Z instead of 12Z.\n",
    "\n",
    "### Question 19\n",
    "I didn't catch the num = k statement in the loop and thought it was B, but the answer is C because num is supposed to have the value of the last index of check.\n",
    "\n",
    "### Question 20\n",
    "The answer is D because the nested loops are checking each element where the value is greater than j + k. \n",
    "\n",
    "### Question 24\n",
    "I was confused by the loop's parameters at first and thought there would be an index error. However, the segment will actually end up printing abbccddeef.\n",
    "\n",
    "### Question 32\n",
    "I thought there would be an IndexOutOfBoundsException but the segment actually checks for the smaller value in a pair and then prints it. It's 3 in both cases, so the output is 3 3.\n",
    "\n",
    "### Question 34\n",
    "I wasn't sure what the print statement was meant to do so I guessed. The answer is B.\n",
    "\n",
    "### Question 35\n",
    "I missed that the print statement printed k = the index itself and thought it was printing the value at the index. The correct answer is C.\n",
    "\n",
    "### Question 37\n",
    "I guessed because I couldn't figure out what was happening in the processWords method. The answer is A.\n",
    "\n",
    "### Question 40\n",
    "I thought II and III would work but II doesn't work because the parameters are wrong. The answer is C, III only.\n",
    "\n",
    "### Question 41\n",
    "I got two of the lists confused and thought the program fails because it removes the element before adding to the other list. The correct answer is E, because the index tracker doesn't account for the changing index elements.\n",
    "\n",
    "### Question 42\n",
    "I didn't realize that the program removed all zeroes but skipped the 0 at index 0. The correct answer is D.\n",
    "\n",
    "### Question 43\n",
    "I thought the substring calls would be thrown out of bounds but giving \"compiler\" as a string actually returns \"ilercom\".\n",
    "\n",
    "### Question 45\n",
    "I thought sm was updated whenever a shorter string was found but it's actually updated whenever a new smallest value is found.\n",
    "\n",
    "### Question 46\n",
    "I was confused by the code segments and just guessed. The correct answer is B because you're finding the average age of students in a major.\n",
    "\n",
    "### Question 48\n",
    "I didn't think I would work but it actually does, just uses a traditional for loop to traverse the array. The only option that odesn't work is III, so the answer is D.\n",
    "\n",
    "### Question 50\n",
    "I guessed on this one. The correct answer is C."
   ]
  }
 ],
 "metadata": {
  "kernelspec": {
   "display_name": "Java",
   "language": "java",
   "name": "java"
  },
  "language_info": {
   "name": "java"
  },
  "orig_nbformat": 4
 },
 "nbformat": 4,
 "nbformat_minor": 2
}
