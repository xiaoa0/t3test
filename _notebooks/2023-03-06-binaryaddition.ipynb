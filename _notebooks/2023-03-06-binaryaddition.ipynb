{
 "cells": [
  {
   "attachments": {},
   "cell_type": "markdown",
   "metadata": {},
   "source": [
    "# Trimester 3 Week 1\n",
    "\n",
    "- categories: [tri3, jupyter]"
   ]
  },
  {
   "cell_type": "code",
   "execution_count": 1,
   "metadata": {
    "vscode": {
     "languageId": "java"
    }
   },
   "outputs": [
    {
     "name": "stdout",
     "output_type": "stream",
     "text": [
      "1"
     ]
    }
   ],
   "source": [
    "import java.lang.Integer;\n",
    "\n",
    "public class BinaryMath {\n",
    "    static String addBinary(String x, String y) {\n",
    "        int num1 = Integer.parseInt(x,2);\n",
    "        //converting binary to decimal\n",
    "       \n",
    "        int num2 = Integer.parseInt(y,2);\n",
    "        //converting binary to decimal\n",
    "       \n",
    "        int sum = num1 + num2;\n",
    "        // adding two nums to get sum\n",
    "         \n",
    "        String result = Integer.toBinaryString(sum);\n",
    "        // converting sum back to binary\n",
    " \n",
    "        return result;\n",
    "    }\n",
    "\n",
    "    public static void main(String args[]) {\n",
    "        String x = \"1\", y = \"0\";\n",
    "        System.out.print(addBinary(x, y));\n",
    "    }\n",
    "}\n",
    "\n",
    "BinaryMath.main(null);"
   ]
  }
 ],
 "metadata": {
  "kernelspec": {
   "display_name": "Java",
   "language": "java",
   "name": "java"
  },
  "language_info": {
   "codemirror_mode": "java",
   "file_extension": ".jshell",
   "mimetype": "text/x-java-source",
   "name": "Java",
   "pygments_lexer": "java",
   "version": "17.0.5+8"
  },
  "orig_nbformat": 4
 },
 "nbformat": 4,
 "nbformat_minor": 2
}
