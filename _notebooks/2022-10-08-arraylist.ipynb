{
 "cells": [
  {
   "cell_type": "markdown",
   "metadata": {},
   "source": [
    "# ArrayList\n",
    "\n",
    "- comments: true\n",
    "- categories: [APprep, jupyter]"
   ]
  },
  {
   "cell_type": "markdown",
   "metadata": {},
   "source": [
    "### Basics\n",
    "After importing the package, I'm creating an arraylist of String type called \"math\". I'm adding two lists to math, \"basic\" and \"advanced\". Basic has the 4 basic math operations (add, subtract, multiply, divide) while advanced has more complex ones such as square roots and exponents. I'm using \"math.addAll();\" to add both lists to the ArrayList, then printing it as the original. "
   ]
  },
  {
   "cell_type": "code",
   "execution_count": 2,
   "metadata": {},
   "outputs": [
    {
     "name": "stdout",
     "output_type": "stream",
     "text": [
      "Original: [addition, subtraction, multiplication, division, square root, exponent, logarithm]\n"
     ]
    }
   ],
   "source": [
    "import java.util.ArrayList; // import package\n",
    "\n",
    "ArrayList<String> math = new ArrayList<String>(); // new arraylist\n",
    "\n",
    "List<String> basic = new ArrayList<String>(); // 2 lists to be added to arraylist\n",
    "List<String> advanced = new ArrayList<String>();\n",
    "\n",
    "basic.add(\"addition\"); // adding these items to basic list\n",
    "basic.add(\"subtraction\");\n",
    "basic.add(\"multiplication\");\n",
    "basic.add(\"division\");\n",
    "\n",
    "advanced.add(\"square root\"); // adding to advanced list\n",
    "advanced.add(\"exponent\");\n",
    "advanced.add(\"logarithm\");\n",
    "\n",
    "math.addAll(basic);\n",
    "math.addAll(advanced); // adding 2 lists to math\n",
    "\n",
    "System.out.println(\"Original: \" + math); // math has all items from both\n"
   ]
  },
  {
   "cell_type": "markdown",
   "metadata": {},
   "source": [
    "# Modifying\n",
    "I used the removeAll for the advanced list to show which operations the abacus can't do, and printed the new list as basic operations."
   ]
  },
  {
   "cell_type": "code",
   "execution_count": 3,
   "metadata": {},
   "outputs": [
    {
     "name": "stdout",
     "output_type": "stream",
     "text": [
      "Basics: [addition, subtraction, multiplication, division]\n"
     ]
    }
   ],
   "source": [
    "math.removeAll(advanced);\n",
    "System.out.println(\"Basics: \" + math);"
   ]
  },
  {
   "cell_type": "markdown",
   "metadata": {},
   "source": [
    "Removing the last element (number 3) from the arraylist and printing it"
   ]
  },
  {
   "cell_type": "code",
   "execution_count": 4,
   "metadata": {},
   "outputs": [
    {
     "name": "stdout",
     "output_type": "stream",
     "text": [
      "Remove last element: [addition, subtraction, multiplication]\n"
     ]
    }
   ],
   "source": [
    "math.remove(3);\n",
    "System.out.println(\"Remove last element: \" + math);"
   ]
  },
  {
   "cell_type": "markdown",
   "metadata": {},
   "source": [
    "Removing all items from the array so it is now empty"
   ]
  },
  {
   "cell_type": "code",
   "execution_count": 5,
   "metadata": {},
   "outputs": [
    {
     "name": "stdout",
     "output_type": "stream",
     "text": [
      "Cleared: []\n"
     ]
    }
   ],
   "source": [
    "math.clear();\n",
    "System.out.println(\"Cleared: \" + math);"
   ]
  }
 ],
 "metadata": {
  "kernelspec": {
   "display_name": "Java",
   "language": "java",
   "name": "java"
  },
  "language_info": {
   "codemirror_mode": "java",
   "file_extension": ".jshell",
   "mimetype": "text/x-java-source",
   "name": "java",
   "pygments_lexer": "java",
   "version": "17.0.5+8"
  },
  "orig_nbformat": 4
 },
 "nbformat": 4,
 "nbformat_minor": 2
}
