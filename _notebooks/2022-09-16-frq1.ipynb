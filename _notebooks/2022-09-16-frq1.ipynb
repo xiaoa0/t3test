{
 "cells": [
  {
   "cell_type": "markdown",
   "metadata": {},
   "source": [
    "# FRQ 1\n",
    "> Practicing the FRQ format with 2019 Question 1\n",
    "\n",
    "- toc: true\n",
    "- comments: true\n",
    "- categories: [APprep, jupyter]"
   ]
  },
  {
   "cell_type": "markdown",
   "metadata": {},
   "source": [
    "## 2019 Question 1\n",
    "\n",
    "The APCalendar class contains methods used to calculate information about a calendar. You will write two methods of the class."
   ]
  },
  {
   "cell_type": "code",
   "execution_count": null,
   "metadata": {},
   "outputs": [],
   "source": [
    "public class APCalendar\n",
    "{\n",
    "    /** Returns true if year is a leap year and false otherwise */\n",
    "    private static boolean isLeapyear(int year)\n",
    "    { /* implementation not shown */}\n",
    "\n",
    "    /** Returns the number of leap years between year1 and year2,  inclusive. \n",
    "     *  Precondition: 0 <= year1 <= year2 \n",
    "     * */ \n",
    "    public static int numberOfLeapYears(int year1, int year2)\n",
    "    { /* to be implemented in part (a) */}\n",
    "\n",
    "    /** Returns the value representing the day of the week for the first day of year, \n",
    "     *  where 0 denotes Sunday, 1 denotes Monday, ..., and 6 denotes Saturday. \n",
    "     */\n",
    "    private static int firstDayOfYear(int year)\n",
    "    { /* implementation not shown */ }\n",
    "\n",
    "    /** Returns n, where month, day,  and year specify the nth day of the year. \n",
    "     * *  Returns 1 for January 1 (month = 1, day = 1)  of any year. \n",
    "     * *  Precondition: The date represented by month, day, year is a valid date. \n",
    "     * */\n",
    "    \n",
    "    private static int dayOfYear(int month, int day, int year)\n",
    "    { /* implementation not shown */ }\n",
    "\n",
    "    /** Returns the value representing the day of the week for the given date \n",
    "     * (month, day, year),  where 0 denotes Sunday, 1 denotes Monday, ..., \n",
    "     * and 6 denotes Saturday. \n",
    "     * Precondition: The date represented by month, day, year is a valid date. \n",
    "     * *  */ \n",
    "    public static int dayOfWeek(int month, int day, int year) \n",
    "    { /* to be implemented in part (b)  */}\n",
    "\n",
    "    // there may be instance variables, constructors, and other methods not shown.\n",
    "}"
   ]
  },
  {
   "cell_type": "markdown",
   "metadata": {},
   "source": [
    "### 1a: numberofLeapYears\n",
    "Write the static method numberOfLeapYears, which returns the number of leap years between year1 and year2, inclusive. In order to calculate this value, a helper method is provided for you.\n",
    "\n",
    "   isLeapYear(year) returns true if year is a leap year and false otherwise\n",
    "Complete method numberOfLeapYears below. You must use isLeapYear appropriately to receive full credit."
   ]
  },
  {
   "cell_type": "code",
   "execution_count": null,
   "metadata": {},
   "outputs": [],
   "source": [
    "public static int numberOfLeapYears(int year1, int year2) {\n",
    "   int counter = int year1;\n",
    "   for (int a = year1; a <= year2; a++) { // taking a as a parameter, setting boundaries as between year1 and year2\n",
    "      if (isLeapYear(a)) { // checking if year value is leapyear\n",
    "         counter++; // adding 1 to counter if true\n",
    "         }\n",
    "      }\n",
    "   return counter; // returning final count after \n",
    "   }"
   ]
  },
  {
   "cell_type": "markdown",
   "metadata": {},
   "source": [
    "This method is made to count the number of leap years in a given range. To do this I used a Counter variable to iterate through each value in the range and the provided isLeapYear() for an if loop."
   ]
  },
  {
   "cell_type": "markdown",
   "metadata": {},
   "source": [
    "### 1b: dayOfWeek\n",
    "\n",
    "Write the static method dayOfWeek, which returns the integer value representing the day of the week for the given date (month, day, year), where 0 denotes Sunday, 1 denotes Monday, ..., and 6 denotes Saturday. For example, 2019 began on a Tuesday, and January 5 is the fifth day of 2019. As a result, January 5, 2019, fell on a Saturday, and the method call dayOfWeek(1, 5, 2019) returns 6.\n",
    "\n",
    "As another example, January 10 is the tenth day of 2019. As a result, January 10, 2019, fell on a Thursday, and the method call dayOfWeek(1, 10, 2019) returns 4.\n",
    "\n",
    "In order to calculate this value, two helper methods are provided for you.\n",
    "\n",
    "    firstDayOfYear(year) returns the integer value representing the day of the week for the first day of year, where 0 denotes Sunday, 1 denotes Monday, ..., and 6 denotes Saturday. For example, since 2019 began on a Tuesday, firstDayOfYear(2019) returns 2.\n",
    "    dayOfYear(month, day, year) returns n, where month, day, and year specify the nth day of the year. For the first day of the year, January 1 (month = 1, day = 1), the value 1 is returned. This method accounts for whether year is a leap year. For example, dayOfYear(3, 1, 2017) returns 60, since 2017 is not a leap year, while dayOfYear(3, 1, 2016) returns 61, since 2016 is a leap year.\n",
    "\n",
    "Complete method dayOfWeek below. You must use firstDayOfYear and dayOfYear appropriately to receive full credit."
   ]
  },
  {
   "cell_type": "code",
   "execution_count": null,
   "metadata": {},
   "outputs": [],
   "source": [
    "public static int dayOfWeek(int month, int day, int year) {\n",
    "   int startingDay = firstDayOfYear(year); // setting starting date\n",
    "   int xDay = dayOfYear(month, day, year); // adding days passed as integer\n",
    "   int endingDay = (startDay + nthDay - 1) % 7; // dividing by 7 to get day of the week\n",
    "   return endingDay;\n",
    "}"
   ]
  },
  {
   "cell_type": "markdown",
   "metadata": {},
   "source": [
    "This method is meant to output a number representing the day of the week a certain date falls on, which involves creating integers to track day 1 of the year, adding the # of days since then to it, and dividing by 7 to return the result."
   ]
  }
 ],
 "metadata": {
  "kernelspec": {
   "display_name": "Java",
   "language": "java",
   "name": "java"
  },
  "language_info": {
   "name": "java"
  },
  "orig_nbformat": 4
 },
 "nbformat": 4,
 "nbformat_minor": 2
}
