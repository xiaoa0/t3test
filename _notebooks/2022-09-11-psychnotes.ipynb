{
 "cells": [
  {
   "cell_type": "markdown",
   "metadata": {},
   "source": [
    "# Psychology and the Good Life notes\n",
    "> Video [here](https://www.youtube.com/watch?v=ZizdB0TgAVM)\n",
    "\n",
    "- toc: true \n",
    "- comments: true\n",
    "- category: [jupyter]"
   ]
  },
  {
   "cell_type": "markdown",
   "metadata": {},
   "source": [
    "### Student mental health\n",
    "- Students are very privileged to be at Yale\n",
    "- They still feel very stressed\n",
    "- Trying to best each other at grinding\n",
    "- Many students feel stressed, lonely, helpless, or overwhelmed"
   ]
  },
  {
   "cell_type": "markdown",
   "metadata": {},
   "source": [
    "### Prof Santos's approach\n",
    "- College is supposed to be good for students\n",
    "- Positive psychology studies happy people and figures out how/why they are happy\n",
    "- Behavioral/neuroscience is how we change and form new habits\n",
    "- Practice vs theory\n",
    "- Made a course plan that was very well-received, attracted lots of student interest"
   ]
  },
  {
   "cell_type": "markdown",
   "metadata": {},
   "source": [
    "### Takeaways\n",
    "- 1: You can change your situation. You are not stuck in a cycle\n",
    "- 50% of influences of happiness are stored in genes, other 50% is behavior\n",
    "- You can't overhaul big factors like location, and they aren't even that significant in terms of affecting happiness (losing legs)"
   ]
  },
  {
   "cell_type": "markdown",
   "metadata": {},
   "source": [
    "### Hacks\n",
    "One thing this talk reminded me of is the importance of hindsight and perspective. Everyone struggles with day-to-day problems in their life, but each person's problems can be very different. I remember feeling a lot of stress when I first started middle school due to the new class structure, letter grades, and advanced math classes. Now, having taken multiple AP courses, my worries back then seemed very silly. Focusing on the negative in those moments didn't help me then, and they didn't help me now. So to \"hack\" my mindset in high school I'm going to try noting at least 2 good things that happen each week here."
   ]
  },
  {
   "cell_type": "markdown",
   "metadata": {},
   "source": [
    "### Record\n",
    "\n"
   ]
  }
 ],
 "metadata": {
  "kernelspec": {
   "display_name": "Java",
   "language": "java",
   "name": "java"
  },
  "language_info": {
   "name": "java"
  },
  "orig_nbformat": 4
 },
 "nbformat": 4,
 "nbformat_minor": 2
}
