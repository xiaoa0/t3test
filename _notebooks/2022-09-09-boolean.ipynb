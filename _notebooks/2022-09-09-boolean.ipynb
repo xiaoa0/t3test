{
 "cells": [
  {
   "cell_type": "markdown",
   "metadata": {},
   "source": [
    "# Booleans\n",
    "> A demonstration of boolean expressions in Java with if-else statements\n",
    "\n",
    "- comments: true\n",
    "- category: [jupyter]\n"
   ]
  },
  {
   "cell_type": "markdown",
   "metadata": {},
   "source": [
    "### Code concepts\n",
    "An if statement operates on a boolean. If the conditions are true then the code will execute. If else/else statements offer alternatives for when the statement returns false (the program runs through the exceptions from top to bottom until one returns true.)"
   ]
  },
  {
   "cell_type": "markdown",
   "metadata": {},
   "source": [
    "### Code tour\n",
    "This is a program created to simulate a grade calculator, so that students can enter their grade as an integer and see what their letter grade is. Depending on the grade, the program also returns some advice based on the user's academic situation. To do this I used the scanner class and multiple if-else if-else statements to assign a value for the different cases. In the code you can see how the variables are called in different parts of the program. In the first part of the program, I created a Scanner object to take the user's input as an integer. The different if statements determine the value assigned to the value variable. A 90 or above (A) is assigned value = 1, and so on. There is also the default value of 0, which is used to handle improper input. After, the value variable is called as a parameter for the switch cases, which print the output based on the grade. "
   ]
  },
  {
   "cell_type": "code",
   "execution_count": 2,
   "metadata": {},
   "outputs": [
    {
     "name": "stdout",
     "output_type": "stream",
     "text": [
      "Enter your grade in a class as an integer (ex: 90, 36) and get some words of advice!\n",
      "You currently have an A\n",
      "Congrats! You've worked hard to reach that A, but don't forget that it's okay to meet obstacles and ask for help when you need it.\n"
     ]
    }
   ],
   "source": [
    "import java.util.Scanner; // importing scanner to take input\n",
    "int grade = 0; // grade input variable\n",
    "int value = 0; // assigning a value based on grade input for cases\n",
    "\n",
    "\n",
    "public class gradeCalculator { \n",
    "\n",
    "    public static void main(String[] args) {\n",
    "    \n",
    "    Scanner input = new Scanner(System.in); //making Scanner instance from class to take input\n",
    "\n",
    "    System.out.println(\"Enter your grade in a class as an integer (ex: 90, 36) and get some words of advice!\"); // printing message\n",
    "    int grade = input.nextInt(); //scanning for next input\n",
    "\n",
    "    if (grade >= 90) { // if grade is 90 or above\n",
    "        value = 1;\n",
    "    }\n",
    "    else if (grade < 90 && grade >= 80) { // below 90 but above/equal to 80\n",
    "        value = 2;\n",
    "    }\n",
    "    else if (grade < 80 && grade >= 70) { // below 80 but above/equal to 70\n",
    "         value = 3;\n",
    "    }\n",
    "    else if (grade < 70 && grade >= 60) { // below 70 but above/equal to 60\n",
    "         value = 4;\n",
    "    }\n",
    "    else if (grade < 60) { // below 60 (failing)\n",
    "      value = 5;\n",
    "    }\n",
    "    else { // invalid input\n",
    "        value = 0;\n",
    "    }\n",
    "\n",
    "    switch (value) { // using cases for each situation determined by input\n",
    "        case 1: // A grade\n",
    "            System.out.println(\"You currently have an A\");\n",
    "            System.out.println(\"Congrats! You've worked hard to reach that A, but don't forget that it's okay to meet obstacles and ask for help when you need it.\");\n",
    "            break;\n",
    "         case 2: // B grade\n",
    "            System.out.println(\"You currently have a B\");\n",
    "            System.out.println(\"You're doing great! Keep doing what you're doing, and try to find areas you can improve on.\");\n",
    "            break;\n",
    "        case 3: // C grade\n",
    "            System.out.println(\"You currently have a C\");\n",
    "            System.out.println(\"This is technically an average grade, but for some the effort it takes to reach this is anything but. Well done!\");\n",
    "            break;\n",
    "        case 4: // D grade\n",
    "            System.out.println(\"You currently have a D\");\n",
    "            System.out.println(\"You're currently hanging on the edge. If you're motivated and work hard, I know you can change it!\");\n",
    "            break;\n",
    "        case 5: // F grade\n",
    "            System.out.println(\"You currently have an F\");\n",
    "            System.out.println(\"This isn't the end of the world. There are many resources like school counselors and tutors that can help to pull you up. I believe in you!\");\n",
    "            break;\n",
    "        case 0: // bad input\n",
    "            System.out.println(\"Please enter the input correctly!\");\n",
    "\n",
    "      }\n",
    "   }\n",
    "}\n",
    "\n",
    "gradeCalculator.main(null);"
   ]
  },
  {
   "cell_type": "markdown",
   "metadata": {},
   "source": [
    "### De Morgan's Laws\n",
    "De Morgan's laws states that \"the negation of a disjunction is the conjunction of the negations\", and vice versa. Essentially, if a true/false statement uses \"not(X or Y)\", then it would be equivalent to \"not(X) AND not(Y)\". If the original statement in parentheses was \"X and Y\", then the \"AND\" in the interpretation would be switched to \"or\"."
   ]
  },
  {
   "cell_type": "code",
   "execution_count": 3,
   "metadata": {},
   "outputs": [
    {
     "name": "stdout",
     "output_type": "stream",
     "text": [
      "If you're seeing this, then it means De Morgan's laws are valid.\n"
     ]
    }
   ],
   "source": [
    "boolean x = false;\n",
    "boolean y = false;\n",
    "\n",
    "/* the statement is going to print based on the condition that ((NOT(x)) and (NOT(y)) is true. It demonstrates that De Morgan's laws\n",
    "are valid because the operator is equivalent to NOT(x or y), which also evaluates to true. */ \n",
    "/* this statement is going to print if ((NOT(X)) or (NOT(Y))) is true, which it should be. Therefore */\n",
    "if ((!x) && (!y)) {\n",
    "    System.out.println(\"If you're seeing this, then it means De Morgan's laws are valid.\");\n",
    "}"
   ]
  }
 ],
 "metadata": {
  "kernelspec": {
   "display_name": "Java",
   "language": "java",
   "name": "java"
  },
  "language_info": {
   "codemirror_mode": "java",
   "file_extension": ".jshell",
   "mimetype": "text/x-java-source",
   "name": "java",
   "pygments_lexer": "java",
   "version": "17.0.5+8"
  },
  "orig_nbformat": 4
 },
 "nbformat": 4,
 "nbformat_minor": 2
}
