{
 "cells": [
  {
   "attachments": {},
   "cell_type": "markdown",
   "metadata": {},
   "source": [
    "# 2019 FRQ 4\n",
    "\n",
    "> LightBoard\n",
    "\n",
    "- toc: true\n",
    "- categories: [jupyter]"
   ]
  },
  {
   "attachments": {},
   "cell_type": "markdown",
   "metadata": {},
   "source": [
    "### LightBoard FRQ\n",
    "- a: Write the constructor for the LightBoard class, which initializes lights so that each light is set to on with a 40% probability. The notation lights[r][c] represents the array element at row r and column c.\n",
    "\n",
    "- b: Write the method evaluateLight, which computes and returns the status of a light at a given row and column based on the following rules.\n",
    "\n",
    "1. If the light is on, return false if the number of lights in its column that are on is even, including the current light.\n",
    "2. If the light is off, return true if the number of lights in its column that are on is divisible by three.\n",
    "3. Otherwise, return the light’s current status."
   ]
  },
  {
   "cell_type": "code",
   "execution_count": 2,
   "metadata": {
    "vscode": {
     "languageId": "java"
    }
   },
   "outputs": [],
   "source": [
    "import java.lang.Math;\n",
    "\n",
    "public class LightBoard {\n",
    "    \n",
    "    private boolean[][] lights;\n",
    "    \n",
    "    public LightBoard(int numRows, int numCols) {\n",
    "        lights = new boolean[numRows][numCols];\n",
    "\n",
    "        for (int r = 0; r<numRows; r++) {\n",
    "            for (int c=0; c<numCols; c++) {\n",
    "                if (Math.random() < 0.4) {\n",
    "                    lights[r][c] = true;\n",
    "                }\n",
    "                else {\n",
    "                    lights[r][c] = false;\n",
    "                }\n",
    "            }\n",
    "        }\n",
    "    \n",
    "    }\n",
    "\n",
    "    public boolean evaluateLight(int row, int col) {\n",
    "        int lightsOn = 0;\n",
    "\n",
    "        for (int r = 0; r<lights.length; r++) { // iterating through rows for each column\n",
    "            if (lights[r][col] == true) {\n",
    "                lightsOn++;\n",
    "            }\n",
    "        }\n",
    "\n",
    "        if (lightsOn % 2 == 0) {\n",
    "            return false;\n",
    "        }\n",
    "        else if (lightsOn % 3 == 0) {\n",
    "            return true;\n",
    "        }\n",
    "        else {\n",
    "            return lights[row][col];\n",
    "\n",
    "        }\n",
    "    }\n",
    "}"
   ]
  }
 ],
 "metadata": {
  "kernelspec": {
   "display_name": "Java",
   "language": "java",
   "name": "java"
  },
  "language_info": {
   "codemirror_mode": "java",
   "file_extension": ".jshell",
   "mimetype": "text/x-java-source",
   "name": "Java",
   "pygments_lexer": "java",
   "version": "17.0.5+9-LTS-191"
  },
  "orig_nbformat": 4
 },
 "nbformat": 4,
 "nbformat_minor": 2
}
