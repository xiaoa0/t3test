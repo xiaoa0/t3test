{
 "cells": [
  {
   "cell_type": "markdown",
   "metadata": {},
   "source": [
    "# \"Unit 2: Objects presentation\"\n",
    "\n",
    "> Tri 1 Objects lesson supplemental\n",
    "\n",
    "- toc: true\n",
    "- categories: [CBUnits, jupyter]"
   ]
  },
  {
   "cell_type": "markdown",
   "metadata": {},
   "source": [
    "### Classes\n",
    "- Classes are blueprints for objects\n",
    "- You can create multiple objects from one class and have them inherit properties, making it easy to manage data\n",
    "\n",
    "In the example below, the class Math has an attribute. Can you name it? \n",
    "\n",
    "What will the output of this code be?"
   ]
  },
  {
   "cell_type": "code",
   "execution_count": null,
   "metadata": {},
   "outputs": [],
   "source": [
    "public class Main {\n",
    "    int x;\n",
    "  \n",
    "    public Main(int y) { // this is the constructor, which sets the value of y\n",
    "     x = y;\n",
    "    }\n",
    "  \n",
    "    public static void main(String[] args) { // \n",
    "      Main myObj = new Main(5);\n",
    "      System.out.println(myObj.x);\n",
    "    }\n",
    "  }"
   ]
  },
  {
   "cell_type": "markdown",
   "metadata": {},
   "source": [
    "### Objects\n",
    "\n",
    "- Constructor syntax is \"Class objectName = new Class(parameters);\"\n",
    "- Objects are created from classes using a class constructor\n",
    "\n",
    "Can you find the constructors in this code?\n",
    "\n",
    "What would this code print?"
   ]
  },
  {
   "cell_type": "code",
   "execution_count": null,
   "metadata": {},
   "outputs": [],
   "source": [
    "public class Main {\n",
    "    int x = 5;\n",
    "  \n",
    "    public static void main(String[] args) {\n",
    "      Main myObj1 = new Main();  // object 1\n",
    "      Main myObj2 = new Main();  // object 2\n",
    "      System.out.println(myObj1.x);\n",
    "      System.out.println(myObj2.x);\n",
    "    }\n",
    "  }"
   ]
  },
  {
   "cell_type": "markdown",
   "metadata": {},
   "source": [
    "### Methods\n",
    "\n",
    "- Essentially functions in Java\n",
    "- Can declare a method and then call it\n",
    "\n",
    "Where is the method in this code and what is the output?"
   ]
  },
  {
   "cell_type": "code",
   "execution_count": 1,
   "metadata": {},
   "outputs": [],
   "source": [
    "public class Main {\n",
    "    static void myMethod() {\n",
    "      System.out.println(\"I was just executed!\");\n",
    "    }\n",
    "  \n",
    "    public static void main(String[] args) {\n",
    "      myMethod();\n",
    "    }\n",
    "  }\n",
    "  "
   ]
  }
 ],
 "metadata": {
  "kernelspec": {
   "display_name": "Java",
   "language": "java",
   "name": "java"
  },
  "language_info": {
   "codemirror_mode": "java",
   "file_extension": ".jshell",
   "mimetype": "text/x-java-source",
   "name": "java",
   "pygments_lexer": "java",
   "version": "17.0.5+8"
  },
  "orig_nbformat": 4
 },
 "nbformat": 4,
 "nbformat_minor": 2
}
