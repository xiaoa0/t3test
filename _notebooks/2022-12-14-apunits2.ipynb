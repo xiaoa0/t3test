{
 "cells": [
  {
   "attachments": {},
   "cell_type": "markdown",
   "metadata": {},
   "source": [
    "# Units 6-10 Review\n",
    "\n",
    "- toc: true\n",
    "- categories: [CBUnits, jupyter]"
   ]
  },
  {
   "attachments": {},
   "cell_type": "markdown",
   "metadata": {},
   "source": [
    "## Grades\n",
    "\n",
    "| Unit | Grade | Homework |\n",
    "|---|---|---|\n",
    "| 6: Arrays | [0.9/1](https://docs.google.com/spreadsheets/d/1Hlh7VScUFSnHA3lovNoh1ao-QZu3vVuH_uCSw0tOoFU/edit#gid=0) | [ArrayMethods](https://xiaoa0.github.io/fastpages2/cbunits/jupyter/2022/11/30/arrays.html) |\n",
    "| 7: ArrayList | [0.9/1](https://docs.google.com/spreadsheets/d/1fe9gmbCkbB4ayEeo3xMYLjx1U96LZ4JjwGOvEHX2O0M/edit#gid=0) | [ArrayList sort](https://xiaoa0.github.io/fastpages2/cbunits/jupyter/2022/12/01/arraylist.html) |\n",
    "| 8: 2D Array | [0.9/1](https://aaditgupta21.github.io/fastpages-CSA/2022/12/14/Unit8Grading.html)  | [Class and methods](https://xiaoa0.github.io/fastpages2/cbunits/jupyter/2022/12/06/2Darray.html) |\n",
    "| 9: Inheritance | [0.83/1](https://docs.google.com/spreadsheets/d/1aPcCRONduEfKhgB69PHXTSY877S1h0V8AomY5OW_THs/edit#gid=0) | [Notebook](https://xiaoa0.github.io/fastpages2/cbunits/jupyter/2022/12/12/inheritance.html) |\n",
    "| 10: Recursion | [1/1](https://docs.google.com/spreadsheets/d/1ucOgxEYKWkggvw7SJ3TuuPXu0ElscD8unKX-RNxB3No/edit#gid=0) | [Review ticket](https://github.com/xiaoa0/fastpages2/issues/6) |\n",
    "| Total | 4.53/5 |  |"
   ]
  },
  {
   "attachments": {},
   "cell_type": "markdown",
   "metadata": {},
   "source": [
    "## Unit 6: Arrays\n",
    "Summary: \n",
    "- Array is a collection of data (not to be confused with ArrayList \n",
    "- Can hold both primitive and referenced data types ()\n",
    "- Track position in array with index (location/order of elements) and length of array (conditional loops)\n",
    "- Cannot be changed once created"
   ]
  },
  {
   "cell_type": "code",
   "execution_count": 9,
   "metadata": {
    "vscode": {
     "languageId": "java"
    }
   },
   "outputs": [
    {
     "name": "stdout",
     "output_type": "stream",
     "text": [
      "1\n",
      "2\n",
      "3\n",
      "4\n",
      "5\n",
      "6\n"
     ]
    }
   ],
   "source": [
    "int[] arrayTest = {1, 2, 3, 4, 5, 6}; // how to initialize\n",
    "\n",
    "for (int i = 0; i < arrayTest.length; i++) { // iteration\n",
    "    System.out.println(arrayTest[i]);\n",
    "}"
   ]
  },
  {
   "attachments": {},
   "cell_type": "markdown",
   "metadata": {},
   "source": [
    "## Unit 7: ArrayList\n",
    "Summary: \n",
    "- Dynamic, unlike static array\n",
    "- Need to import java.util.ArrayList\n",
    "- Can sort descending or ascending order\n",
    "- Also uses loops (enhanced for loop) to traverse\n",
    "- More useful in algorithms (size, remove, set, get)"
   ]
  },
  {
   "cell_type": "code",
   "execution_count": 10,
   "metadata": {
    "vscode": {
     "languageId": "java"
    }
   },
   "outputs": [
    {
     "name": "stdout",
     "output_type": "stream",
     "text": [
      "[The Great Gatsby, The Brothers Karamazov, Hamlet, Great Expectations, Frankenstein, Fahrenheit 451]\n"
     ]
    }
   ],
   "source": [
    "ArrayList<String> books = new ArrayList<String>(); // creating arraylist\n",
    "\n",
    "books.add(\"Great Expectations\");\n",
    "books.add(\"The Brothers Karamazov\");\n",
    "books.add(\"Frankenstein\");\n",
    "books.add(\"Fahrenheit 451\");\n",
    "books.add(\"The Great Gatsby\");\n",
    "books.add(\"Hamlet\");\n",
    "\n",
    "Collections.sort(books, Collections.reverseOrder());\n",
    "\n",
    "System.out.println(books); // showing sorted books in descending order"
   ]
  },
  {
   "cell_type": "code",
   "execution_count": 11,
   "metadata": {
    "vscode": {
     "languageId": "java"
    }
   },
   "outputs": [
    {
     "name": "stdout",
     "output_type": "stream",
     "text": [
      "[piano, tenor, tempo]\n",
      "[piano, tenor, tempo, woodwind]\n"
     ]
    }
   ],
   "source": [
    "import java.util.ArrayList;\n",
    "\n",
    "public class tester {\n",
    "    public static void main (String[] args) {\n",
    "        ArrayList<String> words = new ArrayList<String>(Arrays.asList(\"piano\", \"tenor\", \"tempo\"));\n",
    "        System.out.println(words);\n",
    "\n",
    "        words.add(\"woodwind\");\n",
    "        System.out.println(words);\n",
    "    }\n",
    "}\n",
    "tester.main(null);"
   ]
  },
  {
   "attachments": {},
   "cell_type": "markdown",
   "metadata": {},
   "source": [
    "## Unit 8: 2D Array\n",
    "Summary:\n",
    "- Multidimensional array, good for managing complexity\n",
    "- Change element value using location of array[i][j]\n",
    "- Use nested loops to iterate through the rows, then columns"
   ]
  },
  {
   "cell_type": "code",
   "execution_count": 12,
   "metadata": {
    "vscode": {
     "languageId": "java"
    }
   },
   "outputs": [
    {
     "name": "stdout",
     "output_type": "stream",
     "text": [
      "1 2 3 4 5 6 7 8 9 0 - =  \n",
      "q w e r t y u i o p [ ] \\  \n",
      "a s d f g h j k l  \n",
      "z x c v b n m , . /  \n"
     ]
    }
   ],
   "source": [
    "String[][] test = {{\"1\", \"2\", \"3\", \"4\", \"5\", \"6\", \"7\", \"8\", \"9\", \"0\", \"-\", \"=\"},\n",
    "{\"q\", \"w\", \"e\", \"r\", \"t\", \"y\", \"u\", \"i\", \"o\", \"p\", \"[\", \"]\", \"\\\\\"},\n",
    "{\"a\", \"s\", \"d\", \"f\", \"g\", \"h\", \"j\", \"k\", \"l\"},\n",
    "{\"z\", \"x\", \"c\", \"v\", \"b\", \"n\", \"m\", \",\", \".\", \"/\"}};\n",
    "for(int i = 0;i<test.length;i++){\n",
    "    for(int j = 0; j < test[i].length;j++){ //nested for loops\n",
    "        System.out.print(test[i][j]+\" \");\n",
    "    }\n",
    "    System.out.println(\" \");\n",
    "}"
   ]
  },
  {
   "attachments": {},
   "cell_type": "markdown",
   "metadata": {},
   "source": [
    "### Nested loop\n",
    "A loop within a loop, which can be used to iterate through each 2D array element"
   ]
  },
  {
   "cell_type": "code",
   "execution_count": 13,
   "metadata": {
    "vscode": {
     "languageId": "java"
    }
   },
   "outputs": [],
   "source": [
    "public void printValues() { // arbitrary values\n",
    "    for (int a = 0; a<numbers.length; a++) {\n",
    "        for (int b = 0; b<numbers[a].length; b++) {\n",
    "            numbers[a][b] = a + b; // spacing\n",
    "            System.out.println(numbers[a][b] + \" \"); // spacing\n",
    "        }\n",
    "        System.out.println();\n",
    "    }\n",
    "}"
   ]
  },
  {
   "attachments": {},
   "cell_type": "markdown",
   "metadata": {},
   "source": [
    "## Unit 9: Inheritance\n",
    "Summary: \n",
    "- Subclasses inherit properties of parent classes\n",
    "- Use extends to create subclasses from base class\n",
    "- Overload is instance of two methods with same name having different functions/parameters\n",
    "- Override is used when there is no parent/child method conflict, overwrites parent method"
   ]
  },
  {
   "attachments": {},
   "cell_type": "markdown",
   "metadata": {},
   "source": [
    "### Inheritance (extends)\n",
    "Extends is used to create a subclass, which inherits the "
   ]
  },
  {
   "attachments": {},
   "cell_type": "markdown",
   "metadata": {},
   "source": [
    "### Subclass constructor, super Keyword\n",
    "public class Subclass extends Parentclass {}\n",
    "\n",
    "Super is used to refer to objects in the parent class"
   ]
  },
  {
   "cell_type": "code",
   "execution_count": null,
   "metadata": {
    "vscode": {
     "languageId": "java"
    }
   },
   "outputs": [],
   "source": [
    "public class Fruits {\n",
    "    public int cost;\n",
    "    public int season;\n",
    "\n",
    "    public Fruits (int cost, int season) {\n",
    "        this.cost = cost; // using this. to access base variables\n",
    "        this.season = season;\n",
    "    }\n",
    "\n",
    "    public String toString () {\n",
    "        return \"Price: $\" + this.cost + \", Season: \" + this.season;\n",
    "    }\n",
    "\n",
    "}\n",
    "\n",
    "public class Mango extends Fruits { // mango is subclass of fruit\n",
    "    public Fruits (int cost, int season) {\n",
    "        super (cost, season); // super keyword\n",
    "    }\n",
    "}"
   ]
  },
  {
   "attachments": {},
   "cell_type": "markdown",
   "metadata": {},
   "source": [
    "### Polymorphism (overloading/overriding)\n",
    "Using one method in several different ways through inheritance (override)\n",
    "\n",
    "Overload is what happens when two methods with the same name have different arguments"
   ]
  },
  {
   "cell_type": "code",
   "execution_count": null,
   "metadata": {
    "vscode": {
     "languageId": "java"
    }
   },
   "outputs": [],
   "source": [
    "public class School {\n",
    "    private String model = \"Boeing 737\";\n",
    "    private int age = 3;\n",
    "\n",
    "    public void engineBurr() {\n",
    "        System.out.println(\"brrrrrr\");\n",
    "    }\n",
    "}\n",
    "\n",
    "private class Jettison extends Plane {\n",
    "    public Jettison(String model, int age, String color) {\n",
    "        super(model, age); \n",
    "        this.color = color; \n",
    "\n",
    "        @Override\n",
    "        public void engineBurr() {\n",
    "        System.out.println(\"BRRRRRRRRR\"); \n",
    "    }\n",
    "\n",
    "}"
   ]
  },
  {
   "attachments": {},
   "cell_type": "markdown",
   "metadata": {},
   "source": [
    "## Unit 10: Recursion\n",
    "Summary: \n",
    "- Recursive method calls itself, should have at least one stop case\n",
    "- Uses local variables and parameters, often interchangeable with iterative loop\n",
    "- Used to traverse String, array, and ArrayList objects\n",
    "- Recursion trees are a visual representation of each recursion case ![](https://www.cs.cornell.edu/courses/cs3110/2012sp/lectures/lec20-master/images/lec19-diagram3.png)"
   ]
  },
  {
   "cell_type": "code",
   "execution_count": null,
   "metadata": {
    "vscode": {
     "languageId": "java"
    }
   },
   "outputs": [],
   "source": [
    "public static void test(int n) {\n",
    "    if (n > 0) {\n",
    "        test(n-1);\n",
    "    }\n",
    "}"
   ]
  },
  {
   "attachments": {},
   "cell_type": "markdown",
   "metadata": {},
   "source": [
    "### Standard methods\n",
    "tostring() returns an object as a string\n",
    "\n",
    "equals() compares two given strings to see if they match\n",
    "\n",
    "hashCode() returns hash values of input objects"
   ]
  },
  {
   "cell_type": "code",
   "execution_count": 18,
   "metadata": {
    "vscode": {
     "languageId": "java"
    }
   },
   "outputs": [
    {
     "name": "stdout",
     "output_type": "stream",
     "text": [
      "10\n",
      "1794106052\n"
     ]
    }
   ],
   "source": [
    "Integer a = 10;\n",
    "System.out.println(a.toString()); // printing a as a string\n",
    "\n",
    "String hw = \"hello world\";\n",
    "System.out.println(hw.hashCode());"
   ]
  },
  {
   "attachments": {},
   "cell_type": "markdown",
   "metadata": {},
   "source": [
    "### Big O notation\n",
    "Used to categorize an algorithm's efficiency and scalability (changes in performance based on data size)"
   ]
  },
  {
   "cell_type": "code",
   "execution_count": 19,
   "metadata": {
    "vscode": {
     "languageId": "java"
    }
   },
   "outputs": [],
   "source": [
    "public static int binaryRecursive(int search, int[] array, int start, int end){\n",
    "                \n",
    "    int middle = (start + end)/2; // setting the starting boundaries for search by dividing array in 2\n",
    "\n",
    "    if (end < start) { // error handling\n",
    "            return -1;\n",
    "    } \n",
    "\n",
    "    if (search < array[middle]) { \n",
    "        return binaryRecursive(search, array, start, middle - 1); // lowering range of index values if search is less than the new middle\n",
    "    }\n",
    "\n",
    "    if (search > array[middle]) {\n",
    "        return binaryRecursive(search, array, middle + 1, end); // narrowing range of index values to upper range of array\n",
    "    }\n",
    "\n",
    "    if (search == array[middle]) { // success  case\n",
    "        return middle;\n",
    "    }\n",
    "\n",
    "    return -1;\n",
    "}"
   ]
  }
 ],
 "metadata": {
  "kernelspec": {
   "display_name": "Java",
   "language": "java",
   "name": "java"
  },
  "language_info": {
   "codemirror_mode": "java",
   "file_extension": ".jshell",
   "mimetype": "text/x-java-source",
   "name": "Java",
   "pygments_lexer": "java",
   "version": "17.0.5+9-LTS-191"
  },
  "orig_nbformat": 4,
  "vscode": {
   "interpreter": {
    "hash": "d805617afbb4f0c1c1591ddf7a48349c925092e949d00eefe7ca93909b4ab948"
   }
  }
 },
 "nbformat": 4,
 "nbformat_minor": 2
}
