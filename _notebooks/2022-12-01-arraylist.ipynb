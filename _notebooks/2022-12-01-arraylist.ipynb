{
 "cells": [
  {
   "cell_type": "markdown",
   "metadata": {},
   "source": [
    "# \"Unit 7: ArrayList\"\n",
    "\n",
    "- categories: [CBUnits, jupyter]"
   ]
  },
  {
   "cell_type": "markdown",
   "metadata": {},
   "source": [
    "Arraylist is mutable and \n",
    "Loops for arraylist traversing: for, while, foreach loop that iterates through each item in list"
   ]
  },
  {
   "cell_type": "code",
   "execution_count": null,
   "metadata": {},
   "outputs": [],
   "source": [
    "private int findMin(Arraylist<Integer> values) {\n",
    "    int min=INTEGER_MAX_VALUE;\n",
    "    for (int currentValue:values) [\n",
    "        \n",
    "    ]\n",
    "}"
   ]
  },
  {
   "cell_type": "markdown",
   "metadata": {},
   "source": [
    "Search: arrays and lists, queues and stacks"
   ]
  },
  {
   "cell_type": "markdown",
   "metadata": {},
   "source": [
    "### Homework\n",
    "- Sort an ArrayList in descending order and swap the first and last elements\n",
    "- Return \"ascending\" if the list is sorted in ascending order, return \"descending\" if it is descending, and return \"neither\" if neither"
   ]
  },
  {
   "cell_type": "code",
   "execution_count": 18,
   "metadata": {},
   "outputs": [
    {
     "name": "stdout",
     "output_type": "stream",
     "text": [
      "[The Great Gatsby, The Brothers Karamazov, Hamlet, Great Expectations, Frankenstein, Fahrenheit 451]\n",
      "[Fahrenheit 451, The Brothers Karamazov, Hamlet, Great Expectations, Frankenstein, The Great Gatsby]\n"
     ]
    }
   ],
   "source": [
    "ArrayList<String> books = new ArrayList<String>(); // creating arraylist\n",
    "\n",
    "books.add(\"Great Expectations\");\n",
    "books.add(\"The Brothers Karamazov\");\n",
    "books.add(\"Frankenstein\");\n",
    "books.add(\"Fahrenheit 451\");\n",
    "books.add(\"The Great Gatsby\");\n",
    "books.add(\"Hamlet\");\n",
    "\n",
    "Collections.sort(books, Collections.reverseOrder());\n",
    "\n",
    "System.out.println(books); // showing sorted books in descending order\n",
    "\n",
    "String temp1 = books.get(0); // assigning temp1 to store first item in sorted list\n",
    "String temp2 = books.get(books.size()-1); // temp2 holds last item\n",
    "\n",
    "books.set(0, temp2); // setting first item as temp2 (last item)\n",
    "books.set(books.size()-1, temp1); // setting last string as temp1 (first)\n",
    "\n",
    "System.out.println(books); // printing"
   ]
  },
  {
   "cell_type": "code",
   "execution_count": 3,
   "metadata": {},
   "outputs": [
    {
     "name": "stdout",
     "output_type": "stream",
     "text": [
      "neither\n"
     ]
    }
   ],
   "source": [
    "ArrayList<String> books = new ArrayList<String>(); // creating arraylist\n",
    "\n",
    "books.add(\"Great Expectations\");\n",
    "books.add(\"The Brothers Karamazov\");\n",
    "books.add(\"Frankenstein\");\n",
    "books.add(\"Fahrenheit 451\");\n",
    "books.add(\"The Great Gatsby\");\n",
    "books.add(\"Hamlet\");\n",
    "\n",
    "ArrayList<String> books2 = new ArrayList<>(books); // making books2 (copy of books) for testing\n",
    "\n",
    "if (books == books2){\n",
    "    System.out.println(\"ascending\");\n",
    "}\n",
    "else if (books == books2){\n",
    "    System.out.println(\"descending\");\n",
    "}\n",
    "else {\n",
    "    System.out.println(\"neither\");\n",
    "}"
   ]
  }
 ],
 "metadata": {
  "kernelspec": {
   "display_name": "Java",
   "language": "java",
   "name": "java"
  },
  "language_info": {
   "codemirror_mode": "java",
   "file_extension": ".jshell",
   "mimetype": "text/x-java-source",
   "name": "java",
   "pygments_lexer": "java",
   "version": "17.0.5+9-LTS-191"
  },
  "orig_nbformat": 4
 },
 "nbformat": 4,
 "nbformat_minor": 2
}
