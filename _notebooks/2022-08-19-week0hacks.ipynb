{
 "cells": [
  {
   "cell_type": "markdown",
   "metadata": {},
   "source": [
    "# Week 0 Hacks\n",
    "> Java anatomy\n",
    "\n",
    "- comments: true\n",
    "- badges: true\n",
    "- categories: [APprep, jupyter]"
   ]
  },
  {
   "cell_type": "code",
   "execution_count": 3,
   "metadata": {},
   "outputs": [
    {
     "name": "stdout",
     "output_type": "stream",
     "text": [
      "Hello World!\n"
     ]
    }
   ],
   "source": [
    "// Define Static Method within a Class\n",
    "public class HelloStatic {\n",
    "   // Java standard runtime entry point\n",
    "   public static void main(String[] args) {    \n",
    "       System.out.println(\"Hello World!\");\n",
    "   }\n",
    "}\n",
    "// A method call allows us to execute code that is wrapped in Class\n",
    "HelloStatic.main(null);   // Class prefix allows reference of Static Method"
   ]
  },
  {
   "cell_type": "markdown",
   "metadata": {},
   "source": [
    "- Jupyter notebooks can run code with the right kernel\n",
    "- Can use notebooks to do FRQs\n",
    "### Java basics\n",
    "- Everything is a class\n",
    "- Methods have a specific signature\n",
    "- Can use methods w/same name is they have different signatures (# of parameters)\n",
    "- Static = single instance\n",
    "- OBJECTS\n",
    "\n",
    "### [Week 0 review ticket](https://github.com/xiaoa0/fastpages_test/issues/2)"
   ]
  }
 ],
 "metadata": {
  "kernelspec": {
   "display_name": "Java",
   "language": "java",
   "name": "java"
  },
  "language_info": {
   "codemirror_mode": "java",
   "file_extension": ".jshell",
   "mimetype": "text/x-java-source",
   "name": "java",
   "pygments_lexer": "java",
   "version": "17.0.3+7"
  },
  "orig_nbformat": 4,
  "vscode": {
   "interpreter": {
    "hash": "cca942544a13735e0b500f1ac16a217b44980d9f203f77f6d4313b106e747e9e"
   }
  }
 },
 "nbformat": 4,
 "nbformat_minor": 2
}
